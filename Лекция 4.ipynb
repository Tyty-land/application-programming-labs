{
  "nbformat": 4,
  "nbformat_minor": 0,
  "metadata": {
    "colab": {
      "provenance": []
    },
    "kernelspec": {
      "name": "python3",
      "display_name": "Python 3"
    },
    "language_info": {
      "name": "python"
    }
  },
  "cells": [
    {
      "cell_type": "markdown",
      "source": [
        "## Модуль math"
      ],
      "metadata": {
        "id": "EguCTKBtWvrb"
      }
    },
    {
      "cell_type": "code",
      "execution_count": null,
      "metadata": {
        "id": "JqNnRrHQWm4-"
      },
      "outputs": [],
      "source": [
        "import math"
      ]
    },
    {
      "cell_type": "code",
      "source": [
        "# возведение в степень\n",
        "\n",
        "print(math.pow(5, 2))\n",
        "\n",
        "# через оператор\n",
        "print(5**2)\n",
        "\n",
        "# встроенная функция\n",
        "print(pow(5, 2))\n",
        "# если добавить третий параметр, то получим остаток от деления по модулю\n",
        "print(pow(5, 2, 10))"
      ],
      "metadata": {
        "id": "ulAtqk7mXBMV",
        "colab": {
          "base_uri": "https://localhost:8080/"
        },
        "outputId": "990c7058-2afe-46e7-b8d6-805ff116bf97"
      },
      "execution_count": null,
      "outputs": [
        {
          "output_type": "stream",
          "name": "stdout",
          "text": [
            "25.0\n",
            "25\n",
            "25\n",
            "5\n"
          ]
        }
      ]
    },
    {
      "cell_type": "code",
      "source": [
        "# квадратный корень\n",
        "\n",
        "print(math.sqrt(4))\n",
        "print(math.sqrt(5))\n",
        "\n",
        "# через оператор\n",
        "print(5 ** 0.5)\n",
        "# корень n степени вычисляется только через оператор возведения в степень\n",
        "print(5 ** (1/3))\n",
        "\n",
        "# целочисленный квадратный корень\n",
        "print(math.isqrt(5))"
      ],
      "metadata": {
        "id": "GtBiBZTOYkGZ",
        "colab": {
          "base_uri": "https://localhost:8080/"
        },
        "outputId": "89c829c9-9c60-426c-c968-c27dc95883e1"
      },
      "execution_count": null,
      "outputs": [
        {
          "output_type": "stream",
          "name": "stdout",
          "text": [
            "2.0\n",
            "2.23606797749979\n",
            "2.23606797749979\n",
            "1.7099759466766968\n",
            "2\n"
          ]
        }
      ]
    },
    {
      "cell_type": "code",
      "source": [
        "# округление числа\n",
        "\n",
        "# округление в меньшую сторону\n",
        "print(math.floor(5.5))\n",
        "# через встроенную функцию\n",
        "print(int(5.5))\n",
        "\n",
        "# округление в большую сторону\n",
        "print(math.ceil(5.5))"
      ],
      "metadata": {
        "id": "wMIBP0r0ZhL1",
        "colab": {
          "base_uri": "https://localhost:8080/"
        },
        "outputId": "8991b962-24bc-43c7-822d-c0f21be9d9a4"
      },
      "execution_count": null,
      "outputs": [
        {
          "output_type": "stream",
          "name": "stdout",
          "text": [
            "5\n",
            "5\n",
            "6\n"
          ]
        }
      ]
    },
    {
      "cell_type": "code",
      "source": [
        "# факториал\n",
        "math.factorial(5)  # 5! = 1 * 2 * 3 * 4 * 5"
      ],
      "metadata": {
        "id": "NwiD2AH6ac4K",
        "colab": {
          "base_uri": "https://localhost:8080/"
        },
        "outputId": "bb522b43-c3d5-4de0-9781-5d2a79e8277d"
      },
      "execution_count": null,
      "outputs": [
        {
          "output_type": "execute_result",
          "data": {
            "text/plain": [
              "120"
            ]
          },
          "metadata": {},
          "execution_count": 5
        }
      ]
    },
    {
      "cell_type": "code",
      "source": [
        "# модуль числа\n",
        "\n",
        "print(math.fabs(-5.5))\n",
        "\n",
        "# встроенная функция\n",
        "print(abs(-5.5))"
      ],
      "metadata": {
        "id": "Uzev8HYoa3ik",
        "colab": {
          "base_uri": "https://localhost:8080/"
        },
        "outputId": "42e09398-30da-49bc-9a84-f45503e4d4b5"
      },
      "execution_count": null,
      "outputs": [
        {
          "output_type": "stream",
          "name": "stdout",
          "text": [
            "5.5\n",
            "5.5\n"
          ]
        }
      ]
    },
    {
      "cell_type": "code",
      "source": [
        "# константы\n",
        "print(math.inf)  # бесконечность (положительная)\n",
        "print(math.nan)  # не число\n",
        "print(math.pi)\n",
        "print(math.e)\n",
        "print(math.tau)  # отношение длины окружности к радиусу круга"
      ],
      "metadata": {
        "id": "k-oVaAQCcLA2",
        "colab": {
          "base_uri": "https://localhost:8080/"
        },
        "outputId": "ef77cf17-ea65-44cd-c938-1467feaf3338"
      },
      "execution_count": null,
      "outputs": [
        {
          "output_type": "stream",
          "name": "stdout",
          "text": [
            "inf\n",
            "nan\n",
            "3.141592653589793\n",
            "2.718281828459045\n",
            "6.283185307179586\n"
          ]
        }
      ]
    },
    {
      "cell_type": "code",
      "source": [
        "# перевод из радиан в градусы\n",
        "print(math.degrees(math.pi))\n",
        "\n",
        "# перевод из градусов в радианы\n",
        "print(math.radians(180))"
      ],
      "metadata": {
        "id": "kZtyCohAcCUV",
        "colab": {
          "base_uri": "https://localhost:8080/"
        },
        "outputId": "4141c968-23bc-4854-809a-8fcc4072b70a"
      },
      "execution_count": null,
      "outputs": [
        {
          "output_type": "stream",
          "name": "stdout",
          "text": [
            "180.0\n",
            "3.141592653589793\n"
          ]
        }
      ]
    },
    {
      "cell_type": "code",
      "source": [
        "# тригонометрические операции\n",
        "\n",
        "# косинус\n",
        "print(math.cos(math.pi))\n",
        "# cинус\n",
        "print(math.sin(math.pi))\n",
        "# тангенс\n",
        "print(math.tan(math.pi))\n",
        "\n",
        "# арккосинус (результат от 0 до pi)\n",
        "print(math.acos(-1))\n",
        "# аркcинус (результат от -pi/2 до pi/2)\n",
        "print(math.asin(1))\n",
        "# арктангенс (результат от -pi/2 до pi/2)\n",
        "print(math.atan(100))"
      ],
      "metadata": {
        "id": "LcD1JoV7dWPT",
        "colab": {
          "base_uri": "https://localhost:8080/"
        },
        "outputId": "55bc5aa0-7375-454a-dc02-fa28f6a0accc"
      },
      "execution_count": null,
      "outputs": [
        {
          "output_type": "stream",
          "name": "stdout",
          "text": [
            "-1.0\n",
            "1.2246467991473532e-16\n",
            "-1.2246467991473532e-16\n",
            "3.141592653589793\n",
            "1.5707963267948966\n",
            "1.5607966601082315\n"
          ]
        }
      ]
    },
    {
      "cell_type": "markdown",
      "source": [
        "## Datetime"
      ],
      "metadata": {
        "id": "Wk4PnBvjW2oc"
      }
    },
    {
      "cell_type": "code",
      "source": [
        "import datetime as dt"
      ],
      "metadata": {
        "id": "GWJAFIM5W5Ex"
      },
      "execution_count": null,
      "outputs": []
    },
    {
      "cell_type": "markdown",
      "source": [
        "Класс date"
      ],
      "metadata": {
        "id": "Io-V7ybvXN_U"
      }
    },
    {
      "cell_type": "code",
      "source": [
        "# конструктор класса принимает 3 обязательных аргумента - год, месяц и день\n",
        "d = dt.date(year=2024, month=9, day=23)\n",
        "print(d)\n",
        "\n",
        "# можно получить отдельно значения полей\n",
        "print(d.day, d.month, d.year)"
      ],
      "metadata": {
        "id": "qGAWsab5XGyJ",
        "colab": {
          "base_uri": "https://localhost:8080/"
        },
        "outputId": "d5274ff4-7e80-4184-e7f7-7d97c46a6351"
      },
      "execution_count": null,
      "outputs": [
        {
          "output_type": "stream",
          "name": "stdout",
          "text": [
            "2024-09-23\n",
            "23 9 2024\n"
          ]
        }
      ]
    },
    {
      "cell_type": "code",
      "source": [
        "# получение текущей даты\n",
        "d = dt.date.today()\n",
        "\n",
        "print(d)"
      ],
      "metadata": {
        "id": "9mLh0PCOX8Ld",
        "colab": {
          "base_uri": "https://localhost:8080/"
        },
        "outputId": "69216a3f-065d-40d8-bd48-e890372c1430"
      },
      "execution_count": null,
      "outputs": [
        {
          "output_type": "stream",
          "name": "stdout",
          "text": [
            "2024-09-23\n"
          ]
        }
      ]
    },
    {
      "cell_type": "code",
      "source": [
        "# строковое отображение\n",
        "d.ctime()"
      ],
      "metadata": {
        "id": "5VWZS5qwal-s",
        "colab": {
          "base_uri": "https://localhost:8080/",
          "height": 35
        },
        "outputId": "a0ebce08-3ca0-45df-c73b-0c065291f1f7"
      },
      "execution_count": null,
      "outputs": [
        {
          "output_type": "execute_result",
          "data": {
            "text/plain": [
              "'Mon Sep 23 00:00:00 2024'"
            ],
            "application/vnd.google.colaboratory.intrinsic+json": {
              "type": "string"
            }
          },
          "metadata": {},
          "execution_count": 13
        }
      ]
    },
    {
      "cell_type": "code",
      "source": [
        "# день недели даты (от 0 (понедельник), до 6 (воскресенье))\n",
        "d.weekday()"
      ],
      "metadata": {
        "id": "rUAwREJKa2FQ",
        "colab": {
          "base_uri": "https://localhost:8080/"
        },
        "outputId": "f4e00d61-7be8-4fd4-b965-f0919d069ea7"
      },
      "execution_count": null,
      "outputs": [
        {
          "output_type": "execute_result",
          "data": {
            "text/plain": [
              "0"
            ]
          },
          "metadata": {},
          "execution_count": 14
        }
      ]
    },
    {
      "cell_type": "code",
      "source": [
        "# замена значения любого поля\n",
        "d = d.replace(year=2023)\n",
        "print(d)"
      ],
      "metadata": {
        "id": "OUEbh3uibPu3",
        "colab": {
          "base_uri": "https://localhost:8080/"
        },
        "outputId": "fed90344-5e8e-483b-a251-989b30a0214d"
      },
      "execution_count": null,
      "outputs": [
        {
          "output_type": "stream",
          "name": "stdout",
          "text": [
            "2023-09-23\n"
          ]
        }
      ]
    },
    {
      "cell_type": "markdown",
      "source": [
        "Класс time"
      ],
      "metadata": {
        "id": "fxxoSrrzYxWP"
      }
    },
    {
      "cell_type": "code",
      "source": [
        "# конструктор принимает 4 необязательных параметра:\n",
        "# часы, минуты, секунды и милисекунды\n",
        "t = dt.time()\n",
        "print(t)\n",
        "t = dt.time(hour=11)\n",
        "print(t)\n",
        "t = dt.time(hour=11, minute=30)\n",
        "print(t)\n",
        "t = dt.time(hour=11, minute=30, second=1)\n",
        "print(t)\n",
        "t = dt.time(hour=11, minute=30, second=1, microsecond=100000)\n",
        "print(t)\n",
        "\n",
        "# аналогично можно получить отдельно значения полей\n",
        "print(t.hour, t.minute, t.second, t.microsecond)"
      ],
      "metadata": {
        "id": "HI8R8vS1YzlD",
        "colab": {
          "base_uri": "https://localhost:8080/"
        },
        "outputId": "eae2c530-db4c-40e5-91a2-a2487be0ef21"
      },
      "execution_count": null,
      "outputs": [
        {
          "output_type": "stream",
          "name": "stdout",
          "text": [
            "00:00:00\n",
            "11:00:00\n",
            "11:30:00\n",
            "11:30:01\n",
            "11:30:01.100000\n",
            "11 30 1 100000\n"
          ]
        }
      ]
    },
    {
      "cell_type": "markdown",
      "source": [
        "Класс datetime"
      ],
      "metadata": {
        "id": "eThCqJOZcFa-"
      }
    },
    {
      "cell_type": "code",
      "source": [
        "# конструктор класса принимает 3 обязательных аргумента - год, месяц и день, и\n",
        "# 4 необязательных - часы, минуты, секунды и милисекунды\n",
        "d = dt.datetime(year=2024, month=9, day=23, hour=11, minute=30)\n",
        "print(d)"
      ],
      "metadata": {
        "id": "9rr29RVRcHyi",
        "colab": {
          "base_uri": "https://localhost:8080/"
        },
        "outputId": "d2b0c6e9-02cc-4bdf-fef6-27cc8e215f6b"
      },
      "execution_count": null,
      "outputs": [
        {
          "output_type": "stream",
          "name": "stdout",
          "text": [
            "2024-09-23 11:30:00\n"
          ]
        }
      ]
    },
    {
      "cell_type": "code",
      "source": [
        "# получение текущих даты и времени\n",
        "d = dt.datetime.now()\n",
        "print(d)"
      ],
      "metadata": {
        "id": "nI01klPCcf6A",
        "colab": {
          "base_uri": "https://localhost:8080/"
        },
        "outputId": "9270f827-6f33-49a8-d41e-5be035f9bc8b"
      },
      "execution_count": null,
      "outputs": [
        {
          "output_type": "stream",
          "name": "stdout",
          "text": [
            "2024-09-23 07:47:39.392081\n"
          ]
        }
      ]
    },
    {
      "cell_type": "markdown",
      "source": [
        "Метод strptime() позволяет распарсить строку и преобразовать ее в дату.\n",
        "`strptime(str, format)`\n",
        "\n",
        "str - строковое определение даты и времени, format - определяет, как различные части даты и времени расположены в этой строке.\n",
        "\n",
        "Коды для определения формата:\n",
        "\n",
        "- `%d` - день месяца в виде числа\n",
        "\n",
        "- `%m` - порядковый номер месяца\n",
        "\n",
        "- `%y` - год в виде 2-х чисел\n",
        "\n",
        "- `%Y` - год в виде 4-х чисел\n",
        "\n",
        "- `%H` - час в 24-х часовом формате\n",
        "\n",
        "- `%M` - минута\n",
        "\n",
        "- `%S` - секунда"
      ],
      "metadata": {
        "id": "-cuLtmFgn2On"
      }
    },
    {
      "cell_type": "code",
      "source": [
        "d = dt.datetime.strptime(\"23/09/2024\", \"%d/%m/%Y\")\n",
        "print(d)\n",
        "\n",
        "d = dt.datetime.strptime(\"23/09/2024 11:30\", \"%d/%m/%Y %H:%M\")\n",
        "print(d)\n",
        "\n",
        "d = dt.datetime.strptime(\"09-23-24 11:30\", \"%m-%d-%y %H:%M\")\n",
        "print(d)"
      ],
      "metadata": {
        "id": "hr35-9synpQF",
        "colab": {
          "base_uri": "https://localhost:8080/"
        },
        "outputId": "0c60b6d8-39f8-4f54-ee06-4eea2f802168"
      },
      "execution_count": null,
      "outputs": [
        {
          "output_type": "stream",
          "name": "stdout",
          "text": [
            "2024-09-23 00:00:00\n",
            "2024-09-23 11:30:00\n",
            "2024-09-23 11:30:00\n"
          ]
        }
      ]
    },
    {
      "cell_type": "markdown",
      "source": [
        "Класс Timedelta"
      ],
      "metadata": {
        "id": "Ga22mTwli0Wz"
      }
    },
    {
      "cell_type": "code",
      "source": [
        "# класс timedalta используется для операций над датами\n",
        "# принимает на вход необязательные параметры:\n",
        "# день, часы, минуты, секунды и милисекунды\n",
        "td = dt.timedelta(days=500)\n",
        "print(td)"
      ],
      "metadata": {
        "id": "tou5-Qsri5lX",
        "colab": {
          "base_uri": "https://localhost:8080/"
        },
        "outputId": "78848d44-bf4c-4497-c673-94b87f1828b6"
      },
      "execution_count": null,
      "outputs": [
        {
          "output_type": "stream",
          "name": "stdout",
          "text": [
            "500 days, 0:00:00\n"
          ]
        }
      ]
    },
    {
      "cell_type": "code",
      "source": [
        "d2 = dt.datetime(2023, 9, 23)\n",
        "\n",
        "# разница между двумя датами\n",
        "td = d - d2\n",
        "print(type(td), td)\n",
        "\n",
        "# прибавление к дате\n",
        "d = d + dt.timedelta(days=100)\n",
        "print(d)\n",
        "\n",
        "# умножение на число\n",
        "td = dt.timedelta(days=100) * 5\n",
        "print(td)\n",
        "\n",
        "# деление на число\n",
        "td = dt.timedelta(days=100) / 5\n",
        "print(td)"
      ],
      "metadata": {
        "id": "07FqeStzeiZ4",
        "colab": {
          "base_uri": "https://localhost:8080/"
        },
        "outputId": "8bca5012-0048-4b2d-b357-e254b5482ed5"
      },
      "execution_count": null,
      "outputs": [
        {
          "output_type": "stream",
          "name": "stdout",
          "text": [
            "<class 'datetime.timedelta'> 466 days, 11:30:00\n",
            "2025-04-11 11:30:00\n",
            "500 days, 0:00:00\n",
            "20 days, 0:00:00\n"
          ]
        }
      ]
    },
    {
      "cell_type": "markdown",
      "source": [
        "## Модуль time"
      ],
      "metadata": {
        "id": "-79dPwmrk5ef"
      }
    },
    {
      "cell_type": "code",
      "source": [
        "import time"
      ],
      "metadata": {
        "id": "N3Ne5YzPlLRU"
      },
      "execution_count": null,
      "outputs": []
    },
    {
      "cell_type": "code",
      "source": [
        "# time() возвращает число секунд, прошедших с начала эпохи.\n",
        "# Для операционных систем Unix 1 января 1970, 00:00:00 (UTC) — начало эпохи\n",
        "# (момент, с которого время пошло).\n",
        "\n",
        "t = time.time()\n",
        "print(t)"
      ],
      "metadata": {
        "id": "HFRx44ssk7vu",
        "colab": {
          "base_uri": "https://localhost:8080/"
        },
        "outputId": "dab5fb83-b0f8-4587-d0d1-6c3074a08eef"
      },
      "execution_count": null,
      "outputs": [
        {
          "output_type": "stream",
          "name": "stdout",
          "text": [
            "1727078022.209894\n"
          ]
        }
      ]
    },
    {
      "cell_type": "code",
      "source": [
        "# time.ctime() принимает в качестве аргумента количество секунд,\n",
        "# прошедших с начала эпохи, и возвращает строку, представляющую\n",
        "# собой местное время.\n",
        "t = time.ctime(time.time())\n",
        "print(t)"
      ],
      "metadata": {
        "id": "_LExNDIclTiu",
        "colab": {
          "base_uri": "https://localhost:8080/"
        },
        "outputId": "cde708fd-6d07-4a3b-9aa2-f74f5a826c29"
      },
      "execution_count": null,
      "outputs": [
        {
          "output_type": "stream",
          "name": "stdout",
          "text": [
            "Mon Sep 23 07:53:57 2024\n"
          ]
        }
      ]
    },
    {
      "cell_type": "code",
      "source": [
        "# localtime() возвращает объект класса struct_time с текущим временем\n",
        "t = time.localtime()\n",
        "print(t)"
      ],
      "metadata": {
        "id": "_S-6pqa-mdJM",
        "colab": {
          "base_uri": "https://localhost:8080/"
        },
        "outputId": "46ab3a58-7284-41c9-e690-235c323432b3"
      },
      "execution_count": null,
      "outputs": [
        {
          "output_type": "stream",
          "name": "stdout",
          "text": [
            "time.struct_time(tm_year=2024, tm_mon=9, tm_mday=23, tm_hour=7, tm_min=54, tm_sec=11, tm_wday=0, tm_yday=267, tm_isdst=0)\n"
          ]
        }
      ]
    },
    {
      "cell_type": "code",
      "source": [
        "# sleep() откладывает исполнение текущего потока на данное количество секунд\n",
        "print(\"Сейчас.\")\n",
        "time.sleep(3)\n",
        "print(\"Через 3 секунды.\")"
      ],
      "metadata": {
        "id": "EVxR-I47l0V5",
        "colab": {
          "base_uri": "https://localhost:8080/"
        },
        "outputId": "a61aece8-074d-4d9e-c3e1-0e380bfd3daa"
      },
      "execution_count": null,
      "outputs": [
        {
          "output_type": "stream",
          "name": "stdout",
          "text": [
            "Сейчас.\n",
            "Через 3 секунды.\n"
          ]
        }
      ]
    },
    {
      "cell_type": "markdown",
      "source": [
        "## Модуль csv"
      ],
      "metadata": {
        "id": "VkDRrp9BqlsX"
      }
    },
    {
      "cell_type": "markdown",
      "source": [
        "Каждая строка в файле csv представляет отдельную запись или строку, которая состоит из отдельных столбцов, разделенных запятыми или другими разделителями."
      ],
      "metadata": {
        "id": "E20wjit_q-SP"
      }
    },
    {
      "cell_type": "code",
      "source": [
        "import csv"
      ],
      "metadata": {
        "id": "QACRFoxWqs-_"
      },
      "execution_count": null,
      "outputs": []
    },
    {
      "cell_type": "code",
      "source": [
        "# пример записи в csv файл\n",
        "# данные для записи\n",
        "data = [\n",
        "    [\"Имя\", \"Возраст\", \"Город\"],  # Заголовки\n",
        "    [\"Алексей\", 30, \"Москва\"],\n",
        "    [\"Мария\", 25, \"Санкт-Петербург\"],\n",
        "    [\"Иван\", 22, \"Екатеринбург\"]\n",
        "]\n",
        "\n",
        "# запись данных в CSV файл\n",
        "with open('data.csv', mode='w', newline='', encoding='utf-8') as file:\n",
        "    writer = csv.writer(file)\n",
        "    writer.writerows(data) # запись всех строк\n",
        "\n",
        "# дозапись в файл\n",
        "with open('data.csv', mode='a', newline='', encoding='utf-8') as file:\n",
        "    writer = csv.writer(file)\n",
        "    writer.writerow([\"Ирина\", 33, \"Сочи\"])"
      ],
      "metadata": {
        "id": "84K7vlMKqvPq"
      },
      "execution_count": null,
      "outputs": []
    },
    {
      "cell_type": "code",
      "source": [
        "# содержимое csv файла\n",
        "with open('data.csv', mode='r') as file:\n",
        "    print(file.read())"
      ],
      "metadata": {
        "id": "81be6rxcrlR9",
        "colab": {
          "base_uri": "https://localhost:8080/"
        },
        "outputId": "0785a7ab-647d-4775-d89d-535677f76aae"
      },
      "execution_count": null,
      "outputs": [
        {
          "output_type": "stream",
          "name": "stdout",
          "text": [
            "Имя,Возраст,Город\n",
            "Алексей,30,Москва\n",
            "Мария,25,Санкт-Петербург\n",
            "Иван,22,Екатеринбург\n",
            "Ирина,33,Сочи\n",
            "\n"
          ]
        }
      ]
    },
    {
      "cell_type": "code",
      "source": [
        "# чтение из csv файла\n",
        "with open('data.csv', \"r\", newline=\"\") as file:\n",
        "    reader = csv.reader(file)\n",
        "    for row in reader:\n",
        "        print(row)  # получаем список элементов строки"
      ],
      "metadata": {
        "id": "5hgoLM4Jr6ds",
        "colab": {
          "base_uri": "https://localhost:8080/"
        },
        "outputId": "0e3fdcd3-0673-4366-ceef-cace311d8c0a"
      },
      "execution_count": null,
      "outputs": [
        {
          "output_type": "stream",
          "name": "stdout",
          "text": [
            "['Имя', 'Возраст', 'Город']\n",
            "['Алексей', '30', 'Москва']\n",
            "['Мария', '25', 'Санкт-Петербург']\n",
            "['Иван', '22', 'Екатеринбург']\n",
            "['Ирина', '33', 'Сочи']\n"
          ]
        }
      ]
    },
    {
      "cell_type": "markdown",
      "source": [
        "Работа со словарями"
      ],
      "metadata": {
        "id": "NDjz1rDctfBG"
      }
    },
    {
      "cell_type": "code",
      "source": [
        "# данные для записи в виде списка словарей\n",
        "# ключи словаря - названия колонок\n",
        "data = [\n",
        "    {\"Имя\": \"Алексей\", \"Возраст\": 30},\n",
        "    {\"Имя\": \"Мария\", \"Возраст\": 25},\n",
        "    {\"Имя\": \"Иван\", \"Возраст\": 22}\n",
        "]\n",
        "\n",
        "# запись в csv файл\n",
        "with open('data2.csv', \"w\", newline=\"\") as file:\n",
        "    columns = [\"Имя\", \"Возраст\"]\n",
        "    writer = csv.DictWriter(file, fieldnames=columns)\n",
        "    writer.writeheader()\n",
        "    writer.writerows(data)"
      ],
      "metadata": {
        "id": "2StX45WLsYtA"
      },
      "execution_count": null,
      "outputs": []
    },
    {
      "cell_type": "code",
      "source": [
        "# содержимое файла\n",
        "with open('data2.csv', mode='r') as file:\n",
        "    print(file.read())"
      ],
      "metadata": {
        "id": "NgIe5wnnt5t_",
        "colab": {
          "base_uri": "https://localhost:8080/"
        },
        "outputId": "1332ffff-a97a-4482-d1c6-c81d63b98a34"
      },
      "execution_count": null,
      "outputs": [
        {
          "output_type": "stream",
          "name": "stdout",
          "text": [
            "Имя,Возраст\n",
            "Алексей,30\n",
            "Мария,25\n",
            "Иван,22\n",
            "\n"
          ]
        }
      ]
    },
    {
      "cell_type": "code",
      "source": [
        "# чтение из csv файла\n",
        "with open('data2.csv', \"r\", newline=\"\") as file:\n",
        "    reader = csv.DictReader(file)\n",
        "    name, age = reader.fieldnames  # получаем названия колонок\n",
        "    print(name, age)\n",
        "    for row in reader:\n",
        "        # теперь можно обращаться к колонкам по ключу\n",
        "        print(\"Имя:\", row[name], \"Возраст:\", row[age])"
      ],
      "metadata": {
        "id": "r1vaF2yJt7m2",
        "colab": {
          "base_uri": "https://localhost:8080/"
        },
        "outputId": "1083bdf2-489b-4bfb-f02a-aacb5109fdba"
      },
      "execution_count": null,
      "outputs": [
        {
          "output_type": "stream",
          "name": "stdout",
          "text": [
            "Имя Возраст\n",
            "Имя: Алексей Возраст: 30\n",
            "Имя: Мария Возраст: 25\n",
            "Имя: Иван Возраст: 22\n"
          ]
        }
      ]
    },
    {
      "cell_type": "markdown",
      "source": [
        "## Модуль json"
      ],
      "metadata": {
        "id": "-wyQawzXuxK6"
      }
    },
    {
      "cell_type": "markdown",
      "source": [
        "JSON - это формат файла, имеющий структуру, напоминающую словарь.\n",
        "\n",
        "Пример json файла:\n",
        "```\n",
        "{\n",
        "  \"store\": {\n",
        "    \"name\": \"Магазин электроники\",\n",
        "    \"location\": \"Москва\",\n",
        "    \"products\": [\n",
        "      {\n",
        "        \"id\": 1,\n",
        "        \"name\": \"Телевизор\",\n",
        "        \"price\": 30000\n",
        "      },\n",
        "      {\n",
        "        \"id\": 2,\n",
        "        \"name\": \"Смартфон\",\n",
        "        \"price\": 20000\n",
        "      }\n",
        "    ]\n",
        "  }\n",
        "}\n",
        "```\n",
        "\n",
        "json не привязан к типам данных. Типы данных python конвертируются в json следующим образом:\n",
        "- `dict` - `object`\n",
        "- `list, tuple` - `array`\n",
        "- `str` - `string`\n",
        "- `int, long, float` - `number`\n",
        "- `True` - `true`\n",
        "- `False` - `false`\n",
        "- `None` - `null`"
      ],
      "metadata": {
        "id": "qnAW_hvAwB5O"
      }
    },
    {
      "cell_type": "code",
      "source": [
        "import json"
      ],
      "metadata": {
        "id": "AQVTwPPpu0Je"
      },
      "execution_count": null,
      "outputs": []
    },
    {
      "cell_type": "code",
      "source": [
        "data = {\n",
        "  \"store\": {\n",
        "    \"name\": \"Магазин электроники\",\n",
        "    \"location\": \"Москва\",\n",
        "    \"products\": [\n",
        "      {\n",
        "        \"id\": 1,\n",
        "        \"name\": \"Телевизор\",\n",
        "        \"price\": 30000\n",
        "      },\n",
        "      {\n",
        "        \"id\": 2,\n",
        "        \"name\": \"Смартфон\",\n",
        "        \"price\": 20000\n",
        "      }\n",
        "    ]\n",
        "  }\n",
        "}\n",
        "\n",
        "# запись в файл (сериализация)\n",
        "with open(\"data.json\", \"w\") as file:\n",
        "    json.dump(data, file)"
      ],
      "metadata": {
        "id": "Zi2LOQZzxB2Y"
      },
      "execution_count": null,
      "outputs": []
    },
    {
      "cell_type": "code",
      "source": [
        "# содержимое файла\n",
        "with open('data.json', mode='r') as file:\n",
        "    print(file.read())  # данные сериализованы"
      ],
      "metadata": {
        "id": "S9VrgN0OyKCt",
        "colab": {
          "base_uri": "https://localhost:8080/"
        },
        "outputId": "ad8020f3-dda1-48da-ab11-789c07187933"
      },
      "execution_count": null,
      "outputs": [
        {
          "output_type": "stream",
          "name": "stdout",
          "text": [
            "{\"store\": {\"name\": \"\\u041c\\u0430\\u0433\\u0430\\u0437\\u0438\\u043d \\u044d\\u043b\\u0435\\u043a\\u0442\\u0440\\u043e\\u043d\\u0438\\u043a\\u0438\", \"location\": \"\\u041c\\u043e\\u0441\\u043a\\u0432\\u0430\", \"products\": [{\"id\": 1, \"name\": \"\\u0422\\u0435\\u043b\\u0435\\u0432\\u0438\\u0437\\u043e\\u0440\", \"price\": 30000}, {\"id\": 2, \"name\": \"\\u0421\\u043c\\u0430\\u0440\\u0442\\u0444\\u043e\\u043d\", \"price\": 20000}]}}\n"
          ]
        }
      ]
    },
    {
      "cell_type": "code",
      "source": [
        "# чтение файла (десериализация)\n",
        "with open(\"data.json\", \"r\") as file:\n",
        "    data = json.load(file)\n",
        "print(data)\n",
        "print(type(data))"
      ],
      "metadata": {
        "id": "vgqMvb_Vy1GA",
        "colab": {
          "base_uri": "https://localhost:8080/"
        },
        "outputId": "8188f9f0-921f-45e9-f560-c87b6e8617a7"
      },
      "execution_count": null,
      "outputs": [
        {
          "output_type": "stream",
          "name": "stdout",
          "text": [
            "{'store': {'name': 'Магазин электроники', 'location': 'Москва', 'products': [{'id': 1, 'name': 'Телевизор', 'price': 30000}, {'id': 2, 'name': 'Смартфон', 'price': 20000}]}}\n",
            "<class 'dict'>\n"
          ]
        }
      ]
    },
    {
      "cell_type": "markdown",
      "source": [
        "## Модуль tqdm"
      ],
      "metadata": {
        "id": "gFEsl8tczgG4"
      }
    },
    {
      "cell_type": "markdown",
      "source": [
        "Модуль `tqdm` предназначен для быстрого и расширяемого внедрения индикаторов выполнения (progressbar) во внешние интерфейсы программ на Python, предоставляя конечным пользователям визуальную индикацию хода вычислений или передачи данных."
      ],
      "metadata": {
        "id": "jz6UOws34TJA"
      }
    },
    {
      "cell_type": "code",
      "source": [
        "!pip install tqdm\n",
        "\n",
        "from tqdm import tqdm"
      ],
      "metadata": {
        "id": "usuZiJ3oziJH",
        "colab": {
          "base_uri": "https://localhost:8080/"
        },
        "outputId": "23315696-9548-417e-bd64-3c6e76f74b60"
      },
      "execution_count": null,
      "outputs": [
        {
          "output_type": "stream",
          "name": "stdout",
          "text": [
            "Requirement already satisfied: tqdm in /usr/local/lib/python3.10/dist-packages (4.66.5)\n"
          ]
        }
      ]
    },
    {
      "cell_type": "code",
      "source": [
        "# запуск\n",
        "for i in tqdm(range(100)):\n",
        "    time.sleep(0.1)"
      ],
      "metadata": {
        "id": "lxGoNKhGzpEk",
        "colab": {
          "base_uri": "https://localhost:8080/"
        },
        "outputId": "a5b4411a-ab63-4bf7-db5d-2729edd5b70f"
      },
      "execution_count": null,
      "outputs": [
        {
          "output_type": "stream",
          "name": "stderr",
          "text": [
            "100%|██████████| 100/100 [00:10<00:00,  9.81it/s]\n"
          ]
        }
      ]
    },
    {
      "cell_type": "code",
      "source": [
        "# модификация progressbar\n",
        "pbar = tqdm(range(100), ascii=False)\n",
        "for num in pbar:\n",
        "    time.sleep(0.1)\n",
        "    # добавление префикса и элементов итерации к прогресс бару\n",
        "    pbar.set_description(f\"Загрузка: file_{num}\")"
      ],
      "metadata": {
        "id": "xpu4pueQ5e_2",
        "colab": {
          "base_uri": "https://localhost:8080/"
        },
        "outputId": "10b35899-39ab-4e78-8248-d9f453719bb9"
      },
      "execution_count": null,
      "outputs": [
        {
          "output_type": "stream",
          "name": "stderr",
          "text": [
            "Загрузка: file_99: 100%|██████████| 100/100 [00:10<00:00,  9.63it/s]\n"
          ]
        }
      ]
    },
    {
      "cell_type": "markdown",
      "source": [
        "# Модуль glob"
      ],
      "metadata": {
        "id": "DZx5qxmX6-ft"
      }
    },
    {
      "cell_type": "markdown",
      "source": [
        "Модуль `glob` используется для поиска файлов и каталогов, соответствующих определённым шаблонам имен файлов. Он позволяет удобно работать с файловой системой, находя файлы по заданной маске.\n",
        "\n",
        "`glob.glob(pattern)` - возвращает список путей к файлам, соответствующим заданному шаблону.\n",
        "Шаблон может содержать специальные символы:\n",
        "\n",
        "- `*` - соответствует любому количеству символов.\n",
        "- `?` - соответствует любому одному символу.\n",
        "- `[a-c]` - соответствует любому одному символу из указанного набора."
      ],
      "metadata": {
        "id": "02XYjhlw7YCR"
      }
    },
    {
      "cell_type": "code",
      "source": [
        "import glob"
      ],
      "metadata": {
        "id": "blHrZObU7CgK"
      },
      "execution_count": null,
      "outputs": []
    },
    {
      "cell_type": "code",
      "source": [
        "# список всех csv файлов в текущем каталоге\n",
        "files = glob.glob('*.csv')\n",
        "print(files)\n",
        "\n",
        "# список всех файлов в подкаталоге \"sample_data\"\n",
        "files = glob.glob('sample_data/*')\n",
        "print(files)\n",
        "\n",
        "# список всех файлов в текущем каталоге и подкаталогах\n",
        "py_files = glob.glob('**/*', recursive=True)\n",
        "print(py_files)"
      ],
      "metadata": {
        "id": "8fEsXmYG7KSW",
        "colab": {
          "base_uri": "https://localhost:8080/"
        },
        "outputId": "e6247d87-392d-40ee-81ae-618d75d0ff1f"
      },
      "execution_count": null,
      "outputs": [
        {
          "output_type": "stream",
          "name": "stdout",
          "text": [
            "['data.csv', 'data2.csv']\n",
            "['sample_data/anscombe.json', 'sample_data/README.md', 'sample_data/mnist_test.csv', 'sample_data/california_housing_test.csv', 'sample_data/california_housing_train.csv', 'sample_data/mnist_train_small.csv']\n",
            "['data.csv', 'data.json', 'data2.csv', 'sample_data', 'sample_data/anscombe.json', 'sample_data/README.md', 'sample_data/mnist_test.csv', 'sample_data/california_housing_test.csv', 'sample_data/california_housing_train.csv', 'sample_data/mnist_train_small.csv']\n"
          ]
        }
      ]
    }
  ]
}