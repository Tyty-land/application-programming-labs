{
  "nbformat": 4,
  "nbformat_minor": 0,
  "metadata": {
    "colab": {
      "provenance": []
    },
    "kernelspec": {
      "name": "python3",
      "display_name": "Python 3"
    },
    "language_info": {
      "name": "python"
    }
  },
  "cells": [
    {
      "cell_type": "markdown",
      "source": [
        "## Коллекции"
      ],
      "metadata": {
        "id": "ROg2sYQohy7Q"
      }
    },
    {
      "cell_type": "markdown",
      "source": [
        "### Списки"
      ],
      "metadata": {
        "id": "WsFQrK8Z1kvJ"
      }
    },
    {
      "cell_type": "code",
      "execution_count": null,
      "metadata": {
        "id": "ak7ZQKiehvi6",
        "colab": {
          "base_uri": "https://localhost:8080/"
        },
        "outputId": "1a667e52-891f-44f5-a3d8-c5e74933a3a5"
      },
      "outputs": [
        {
          "output_type": "execute_result",
          "data": {
            "text/plain": [
              "['l', 'i', 's', 't']"
            ]
          },
          "metadata": {},
          "execution_count": 1
        }
      ],
      "source": [
        "# создание списков\n",
        "\n",
        "# пустой список\n",
        "lst = []\n",
        "lst = list()\n",
        "\n",
        "# заполненный список\n",
        "lst = [1, 2, 3]\n",
        "lst = [\"abc\", 333, [5.5, 8]]  # любые типы данных\n",
        "lst2 = list(lst)  # копия списка\n",
        "lst = list(\"list\")  # список из строки\n",
        "lst"
      ]
    },
    {
      "cell_type": "code",
      "source": [
        "# повторение элементов списка\n",
        "lst = [0, 1] * 3\n",
        "print(lst)\n",
        "\n",
        "# сложение списков\n",
        "lst = lst + [2, 3]\n",
        "print(lst)"
      ],
      "metadata": {
        "id": "VlQbz5iz22Kd",
        "colab": {
          "base_uri": "https://localhost:8080/"
        },
        "outputId": "56617fbf-3b9b-4b90-b599-ad423d6e974d"
      },
      "execution_count": null,
      "outputs": [
        {
          "output_type": "stream",
          "name": "stdout",
          "text": [
            "[0, 1, 0, 1, 0, 1]\n",
            "[0, 1, 0, 1, 0, 1, 2, 3]\n"
          ]
        }
      ]
    },
    {
      "cell_type": "code",
      "source": [
        "# индексация\n",
        "\n",
        "lst = [0, 1, 2, 3, 4]\n",
        "\n",
        "print(lst[0])  # прямая\n",
        "print(lst[-1])  # обратная\n",
        "\n",
        "print(lst[0:3])  # срез списка - тоже список\n",
        "print(lst[::-1])  # срез с шагом в обратном направлении"
      ],
      "metadata": {
        "id": "lzv1wkW44fYM",
        "colab": {
          "base_uri": "https://localhost:8080/"
        },
        "outputId": "8c88605f-c9a5-4d01-a075-995a3cb7502c"
      },
      "execution_count": null,
      "outputs": [
        {
          "output_type": "stream",
          "name": "stdout",
          "text": [
            "0\n",
            "4\n",
            "[0, 1, 2]\n",
            "[4, 3, 2, 1, 0]\n"
          ]
        }
      ]
    },
    {
      "cell_type": "code",
      "source": [
        "# разложение\n",
        "\n",
        "info = [\"Ivan\", 20]\n",
        "name, age = info\n",
        "print(name, age)"
      ],
      "metadata": {
        "id": "0O424Wtk5iky",
        "colab": {
          "base_uri": "https://localhost:8080/"
        },
        "outputId": "732b1298-2301-4753-dc50-9390298b7ebf"
      },
      "execution_count": null,
      "outputs": [
        {
          "output_type": "stream",
          "name": "stdout",
          "text": [
            "Ivan 20\n"
          ]
        }
      ]
    },
    {
      "cell_type": "code",
      "source": [
        "# сравнение списков\n",
        "\n",
        "print([0, 1, 2] == [0, 1, 2])\n",
        "print([0, 1, 2] == [2, 1, 0])"
      ],
      "metadata": {
        "id": "42svgpY262Md",
        "colab": {
          "base_uri": "https://localhost:8080/"
        },
        "outputId": "b7449c76-8942-4015-bd69-7a76638a3381"
      },
      "execution_count": null,
      "outputs": [
        {
          "output_type": "stream",
          "name": "stdout",
          "text": [
            "True\n",
            "False\n"
          ]
        }
      ]
    },
    {
      "cell_type": "code",
      "source": [
        "# перебор списка\n",
        "\n",
        "lst = [1, 2, 3, 4, 5]\n",
        "\n",
        "# через индексы\n",
        "for i in range(len(lst)):\n",
        "    print(lst[i], end=\" \")\n",
        "\n",
        "print()\n",
        "\n",
        "# через итератор (предпочтительней)\n",
        "for item in lst:\n",
        "    print(item, end=\" \")\n",
        "\n",
        "print()\n",
        "\n",
        "# комбинация с помощью enumerate\n",
        "for i, item in enumerate(lst):\n",
        "    print(f\"ind: {i}, value: {item}\")\n",
        "\n",
        "lst2 = [6, 7, 8, 9, 10]\n",
        "# перебор двух списков через функцию zip()\n",
        "for item1, item2 in zip(lst, lst2):\n",
        "    print(f\"{item1} {item2};\", end=\" \")"
      ],
      "metadata": {
        "id": "WE8OlcP-5zOe",
        "colab": {
          "base_uri": "https://localhost:8080/"
        },
        "outputId": "59312c3a-b88a-47fa-856d-f6835287dc03"
      },
      "execution_count": null,
      "outputs": [
        {
          "output_type": "stream",
          "name": "stdout",
          "text": [
            "1 2 3 4 5 \n",
            "1 2 3 4 5 \n",
            "ind: 0, value: 1\n",
            "ind: 1, value: 2\n",
            "ind: 2, value: 3\n",
            "ind: 3, value: 4\n",
            "ind: 4, value: 5\n",
            "1 6; 2 7; 3 8; 4 9; 5 10; "
          ]
        }
      ]
    },
    {
      "cell_type": "code",
      "source": [
        "# методы списка\n",
        "\n",
        "lst = [0, 1, 2, 3, 4]\n",
        "\n",
        "# добавление\n",
        "\n",
        "lst.append(5)  # добавление в конец\n",
        "print(lst)\n",
        "\n",
        "lst.insert(5, -1)  # добавление по индексу 5\n",
        "print(lst)\n",
        "\n",
        "lst.extend([6, 7])  # добавление нескольких элементов в конец списка\n",
        "print(lst)"
      ],
      "metadata": {
        "id": "HYne5p9s6v-m",
        "colab": {
          "base_uri": "https://localhost:8080/"
        },
        "outputId": "cb8e5e4f-c173-4d6a-9a74-040bec658151"
      },
      "execution_count": null,
      "outputs": [
        {
          "output_type": "stream",
          "name": "stdout",
          "text": [
            "[0, 1, 2, 3, 4, 5]\n",
            "[0, 1, 2, 3, 4, -1, 5]\n",
            "[0, 1, 2, 3, 4, -1, 5, 6, 7]\n"
          ]
        }
      ]
    },
    {
      "cell_type": "code",
      "source": [
        "# работа со списком\n",
        "lst = [0, 1, 2, 3, 4, -1, 5, 6, 7]\n",
        "\n",
        "index = lst.index(-1)  # возвращает индекс элемента -1\n",
        "# Если элемент не найден - вызывает исключение\n",
        "print(index)\n",
        "\n",
        "count = lst.count(0)  # подсчитывает количество вхождений элемента 0\n",
        "print(count)\n",
        "\n",
        "lst.reverse()  # инвертирует список\n",
        "print(lst)\n",
        "\n",
        "lst.sort()  # сортировка по возрастанию\n",
        "print(lst)\n",
        "\n",
        "lst.sort(reverse=True)  # сортировка по убыванию\n",
        "print(lst)\n",
        "\n",
        "lst.sort(key=lambda x: x ** 2)  # сортировка по ключу\n",
        "print(lst)\n",
        "\n",
        "lst2 = lst.copy()  # копирование\n",
        "print(lst2)"
      ],
      "metadata": {
        "id": "nvCv1iwG-486",
        "colab": {
          "base_uri": "https://localhost:8080/"
        },
        "outputId": "92f28a4e-fbe9-451d-b8d5-590eadbdd350"
      },
      "execution_count": null,
      "outputs": [
        {
          "output_type": "stream",
          "name": "stdout",
          "text": [
            "5\n",
            "1\n",
            "[7, 6, 5, -1, 4, 3, 2, 1, 0]\n",
            "[-1, 0, 1, 2, 3, 4, 5, 6, 7]\n",
            "[7, 6, 5, 4, 3, 2, 1, 0, -1]\n",
            "[0, 1, -1, 2, 3, 4, 5, 6, 7]\n",
            "[0, 1, -1, 2, 3, 4, 5, 6, 7]\n"
          ]
        }
      ]
    },
    {
      "cell_type": "code",
      "source": [
        "# удаление элементов\n",
        "\n",
        "lst = [0, 1, 2, 3, 4, -1, 5, 6, 7]\n",
        "\n",
        "lst.remove(7)  # удаление первого вхождения элемента 7\n",
        "# Если элемент не найден - вызывает исключение\n",
        "print(lst)\n",
        "\n",
        "ind = lst.pop()  # удаление последнего элемента и возврат его значения\n",
        "print(lst)\n",
        "print(ind)\n",
        "\n",
        "lst.pop(0)  # удаление элемента по индексу 0\n",
        "print(lst)\n",
        "\n",
        "del lst[0]  # тоже удаление элемента по индексу 0\n",
        "print(lst)\n",
        "\n",
        "lst.clear()  # удаление всех элементов\n",
        "print(lst)"
      ],
      "metadata": {
        "id": "KnzBacfc-r_M",
        "colab": {
          "base_uri": "https://localhost:8080/"
        },
        "outputId": "22ff77eb-4ee1-47e4-8d49-d715044603c8"
      },
      "execution_count": null,
      "outputs": [
        {
          "output_type": "stream",
          "name": "stdout",
          "text": [
            "[0, 1, 2, 3, 4, -1, 5, 6]\n",
            "[0, 1, 2, 3, 4, -1, 5]\n",
            "6\n",
            "[1, 2, 3, 4, -1, 5]\n",
            "[2, 3, 4, -1, 5]\n",
            "[]\n"
          ]
        }
      ]
    },
    {
      "cell_type": "code",
      "source": [
        "# встроенные функции python\n",
        "\n",
        "lst = [3, 1, 2]\n",
        "\n",
        "print(len(lst))  # длина\n",
        "\n",
        "print(min(lst))  # минимум\n",
        "print(max(lst))  # максимум\n",
        "\n",
        "print(sorted(lst))  # сортировка\n",
        "\n",
        "print(list(filter(lambda x: x > 1, lst)))  # фильтрация\n",
        "\n",
        "print(list(map(str, lst)))  # преобразование"
      ],
      "metadata": {
        "id": "xhszoVa4Cju9",
        "colab": {
          "base_uri": "https://localhost:8080/"
        },
        "outputId": "b8cea52a-4d29-4361-84bd-b2d345479c14"
      },
      "execution_count": null,
      "outputs": [
        {
          "output_type": "stream",
          "name": "stdout",
          "text": [
            "3\n",
            "1\n",
            "3\n",
            "[1, 2, 3]\n",
            "[3, 2]\n",
            "['3', '1', '2']\n"
          ]
        }
      ]
    },
    {
      "cell_type": "code",
      "source": [
        "# WARNING! Списки - \"ссылочный\" тип!\n",
        "\n",
        "# создаём функцию, которая удаляет первый элемент списка\n",
        "def func(my_list: list):\n",
        "    del my_list[0]\n",
        "\n",
        "\n",
        "lst = [0, 1, 2]  # создаём список\n",
        "func(lst)  # передаём его в функцию\n",
        "print(lst)  # обнаруживаем неприятный сюрприз"
      ],
      "metadata": {
        "id": "tFMxYVXYA_Dd",
        "colab": {
          "base_uri": "https://localhost:8080/"
        },
        "outputId": "2d857dab-e5c5-4caa-9648-186b6e5282d1"
      },
      "execution_count": null,
      "outputs": [
        {
          "output_type": "stream",
          "name": "stdout",
          "text": [
            "[1, 2]\n"
          ]
        }
      ]
    },
    {
      "cell_type": "code",
      "source": [
        "# ребус\n",
        "\n",
        "lst = ['p', 'r', 'i', 'n', 't']\n",
        "lst2 = ['g', 'a', 'm', 'e']\n",
        "\n",
        "lst.extend(lst2[1:3])\n",
        "lst[4] = lst[1]\n",
        "lst.pop(lst.index('i'))\n",
        "lst.insert(2, 'o')\n",
        "lst2.reverse()\n",
        "lst[-4] = lst2[-1]\n",
        "\n",
        "print(\"\".join(lst))"
      ],
      "metadata": {
        "id": "zwN7yQCKGy3Y"
      },
      "execution_count": null,
      "outputs": []
    },
    {
      "cell_type": "markdown",
      "source": [
        "### Кортежи\n",
        "(как списки, но неизменяемые)"
      ],
      "metadata": {
        "id": "KCl5u17UBKqr"
      }
    },
    {
      "cell_type": "code",
      "source": [
        "# создание кортежей\n",
        "\n",
        "tpl = ()\n",
        "tpl = tuple()\n",
        "tpl = (1, 2, 3)\n",
        "tpl2 = tuple(tpl)  # копия\n",
        "print(tpl2)\n",
        "\n",
        "# кортежи и списки легко преобразуются друг в друга\n",
        "lst = list(tpl)\n",
        "tpl = tuple(lst)"
      ],
      "metadata": {
        "id": "D8xUq38SBNKP",
        "colab": {
          "base_uri": "https://localhost:8080/"
        },
        "outputId": "b0bff8b0-c7d6-4596-ce52-1ab28ae8800b"
      },
      "execution_count": null,
      "outputs": [
        {
          "output_type": "stream",
          "name": "stdout",
          "text": [
            "(1, 2, 3)\n"
          ]
        }
      ]
    },
    {
      "cell_type": "code",
      "source": [
        "# методы\n",
        "\n",
        "tpl = (1, 2, 3)\n",
        "\n",
        "index = tpl.index(2)\n",
        "print(index)\n",
        "\n",
        "count = tpl.count(3)\n",
        "print(count)"
      ],
      "metadata": {
        "id": "IIBDOdabC7-J",
        "colab": {
          "base_uri": "https://localhost:8080/"
        },
        "outputId": "eab10552-6434-44e1-b624-c9ddb4a74ba6"
      },
      "execution_count": null,
      "outputs": [
        {
          "output_type": "stream",
          "name": "stdout",
          "text": [
            "1\n",
            "1\n"
          ]
        }
      ]
    },
    {
      "cell_type": "code",
      "source": [
        "# часто используется для возврата нескольких значений из функции\n",
        "\n",
        "def colors() -> tuple[str, str, str]:\n",
        "    return \"red\", \"green\", \"blue\"\n",
        "\n",
        "print(colors())\n",
        "print(type(colors()))"
      ],
      "metadata": {
        "id": "PJm6VYL5Dci8",
        "colab": {
          "base_uri": "https://localhost:8080/"
        },
        "outputId": "4ff88efd-6fdf-4f14-85f0-b3d5f4a43dda"
      },
      "execution_count": null,
      "outputs": [
        {
          "output_type": "stream",
          "name": "stdout",
          "text": [
            "('red', 'green', 'blue')\n",
            "<class 'tuple'>\n"
          ]
        }
      ]
    },
    {
      "cell_type": "markdown",
      "source": [
        "### Словари"
      ],
      "metadata": {
        "id": "L6lx5xZCFxvr"
      }
    },
    {
      "cell_type": "code",
      "source": [
        "# создание словаря\n",
        "\n",
        "dct = {}\n",
        "dct = dict()\n",
        "\n",
        "dct = {1: \"Cat\", 2: \"Dog\", 3: \"Mouse\"}\n",
        "\n",
        "# ключи - неизменяемые, значения - любые\n",
        "dct = {True: \"abc\", 5.5: [1, 2, 3], \"a\": 0}\n",
        "\n",
        "# словарь из списка списков\n",
        "dct = dict([['key1', 'val1'], ['key2', 'val2']])\n",
        "print(dct)"
      ],
      "metadata": {
        "id": "EFy22qrgFzel",
        "colab": {
          "base_uri": "https://localhost:8080/"
        },
        "outputId": "61baefa8-7e16-41a4-dfdd-f9ce0d0e2d41"
      },
      "execution_count": null,
      "outputs": [
        {
          "output_type": "stream",
          "name": "stdout",
          "text": [
            "{'key1': 'val1', 'key2': 'val2'}\n"
          ]
        }
      ]
    },
    {
      "cell_type": "code",
      "source": [
        "# обращение по ключам\n",
        "\n",
        "dct = {'key1': 'val1', 'key2': 'val2'}\n",
        "\n",
        "print(dct['key1'])\n",
        "\n",
        "dct['key2'] = 'new val'  # замена значения\n",
        "print(dct)\n",
        "\n",
        "dct['key3'] = 'val3'  # добавление нового элемента\n",
        "print(dct)\n",
        "\n",
        "del dct['key3']  # удаление элемента\n",
        "print(dct)"
      ],
      "metadata": {
        "id": "bzrFPMqdJHL5",
        "colab": {
          "base_uri": "https://localhost:8080/"
        },
        "outputId": "ee07ea69-0cf5-4185-c55a-3e445d7e3bf9"
      },
      "execution_count": null,
      "outputs": [
        {
          "output_type": "stream",
          "name": "stdout",
          "text": [
            "val1\n",
            "{'key1': 'val1', 'key2': 'new val'}\n",
            "{'key1': 'val1', 'key2': 'new val', 'key3': 'val3'}\n",
            "{'key1': 'val1', 'key2': 'new val'}\n"
          ]
        }
      ]
    },
    {
      "cell_type": "code",
      "source": [
        "# перебор словаря\n",
        "\n",
        "dct = {1: \"Cat\", 2: \"Dog\", 3: \"Mouse\"}\n",
        "\n",
        "# по ключу\n",
        "for key in dct:\n",
        "    print(f\"{key}, {dct[key]};\", end=\" \")\n",
        "\n",
        "print()\n",
        "\n",
        "# по ключу с импользованием метода keys()\n",
        "for key in dct.keys():\n",
        "    print(f\"{key}, {dct[key]};\", end=\" \")\n",
        "\n",
        "print()\n",
        "\n",
        "# перебор значений с помощью метода values()\n",
        "for val in dct.values():\n",
        "    print(val, end=\" \")\n",
        "\n",
        "print()\n",
        "\n",
        "# получение пары ключ-значение с помощью метода items()\n",
        "for key, val in dct.items():\n",
        "    print(f\"{key}, {val};\", end=\" \")"
      ],
      "metadata": {
        "id": "iS1hem-LLU78",
        "colab": {
          "base_uri": "https://localhost:8080/"
        },
        "outputId": "a0fc5e00-3755-44a5-9697-ccd3d044f922"
      },
      "execution_count": null,
      "outputs": [
        {
          "output_type": "stream",
          "name": "stdout",
          "text": [
            "1, Cat; 2, Dog; 3, Mouse; \n",
            "1, Cat; 2, Dog; 3, Mouse; \n",
            "Cat Dog Mouse \n",
            "1, Cat; 2, Dog; 3, Mouse; "
          ]
        }
      ]
    },
    {
      "cell_type": "code",
      "source": [
        "# методы\n",
        "\n",
        "dct = {1: \"Cat\", 2: \"Dog\", 3: \"Mouse\"}\n",
        "\n",
        "print(dct.get(1))  # получение элемента\n",
        "print(dct.get(0, 'not found'))  # дефолтное значение, если ключ не найден\n",
        "\n",
        "dct2 = dct.copy()  # копирование\n",
        "\n",
        "dct2 = {1: \"Cat\", 3: \"Bird\", 4: \"Lion\"}\n",
        "\n",
        "dct.update(dct2)  # \"объединение\" словарей\n",
        "print(dct)\n",
        "\n",
        "print(dct.pop(1))  # удаление элемента и возврат значения\n",
        "print(dct.pop(0, 'not found'))  # дефолтное значение, если ключ не найден\n",
        "dct.clear()  # удаление всех элементов"
      ],
      "metadata": {
        "id": "_aLuoUXtJkyB",
        "colab": {
          "base_uri": "https://localhost:8080/"
        },
        "outputId": "719fa8a0-df9b-4a45-bcc7-50c2b0fb4f11"
      },
      "execution_count": null,
      "outputs": [
        {
          "output_type": "stream",
          "name": "stdout",
          "text": [
            "Cat\n",
            "not found\n",
            "{1: 'Cat', 2: 'Dog', 3: 'Bird', 4: 'Lion'}\n",
            "Cat\n",
            "not found\n"
          ]
        }
      ]
    },
    {
      "cell_type": "markdown",
      "source": [
        "### Множества\n",
        "(как словари, но без значений)"
      ],
      "metadata": {
        "id": "3uOV3Fx8OqLt"
      }
    },
    {
      "cell_type": "code",
      "source": [
        "# создание множеств\n",
        "\n",
        "st = set()\n",
        "st = {1, 2, 3}\n",
        "\n",
        "lst = [1, 4, 5, 1, 0, 4, 3, 5, 5, 5]\n",
        "st = set(lst)  # множество из списка - только уникальные значения\n",
        "print(st)"
      ],
      "metadata": {
        "id": "RFgpJqU0Or3w",
        "colab": {
          "base_uri": "https://localhost:8080/"
        },
        "outputId": "a925e005-66d6-482c-86a3-35131dcbeb17"
      },
      "execution_count": null,
      "outputs": [
        {
          "output_type": "stream",
          "name": "stdout",
          "text": [
            "{0, 1, 3, 4, 5}\n"
          ]
        }
      ]
    },
    {
      "cell_type": "code",
      "source": [
        "# перебор множеств\n",
        "\n",
        "# только так :(\n",
        "for item in st:\n",
        "    print(item, end=\" \")"
      ],
      "metadata": {
        "id": "9weAvJJyQNjU",
        "colab": {
          "base_uri": "https://localhost:8080/"
        },
        "outputId": "f2b3aba4-bba9-4074-ca9a-5308889e1dfa"
      },
      "execution_count": null,
      "outputs": [
        {
          "output_type": "stream",
          "name": "stdout",
          "text": [
            "0 1 3 4 5 "
          ]
        }
      ]
    },
    {
      "cell_type": "code",
      "source": [
        "# методы\n",
        "\n",
        "st = {1, 2, 3}\n",
        "\n",
        "st.add(4)  # добавление элемента\n",
        "print(st)\n",
        "\n",
        "st2 = st.copy()  # копирование множества\n",
        "\n",
        "st.remove(4)  # удаление элемента, если элемента нет - исключение\n",
        "print(st)\n",
        "\n",
        "st.discard(0)  # удаление элемента, но без исключений\n",
        "print(st)\n",
        "\n",
        "st.clear()  # удаление всех элементов"
      ],
      "metadata": {
        "id": "wJgzmcwaRgoy",
        "colab": {
          "base_uri": "https://localhost:8080/"
        },
        "outputId": "61dbd49d-92f0-4735-889b-7e95f04a24e6"
      },
      "execution_count": null,
      "outputs": [
        {
          "output_type": "stream",
          "name": "stdout",
          "text": [
            "{1, 2, 3, 4}\n",
            "{1, 2, 3}\n",
            "{1, 2, 3}\n"
          ]
        }
      ]
    },
    {
      "cell_type": "code",
      "source": [
        "st = {1, 2, 3}\n",
        "st2 = {2, 3, 4}\n",
        "\n",
        "st3 = st.union(st2)  # объединение множеств\n",
        "st3 = st | st2  # объединение множеств через оператор\n",
        "print(st3)\n",
        "\n",
        "st3 = st.intersection(st2)  # пересечение множеств\n",
        "st3 = st & st2  # пересечение множеств через оператор\n",
        "print(st3)\n",
        "# st.intersection_update(st2) - пересечение с обновлением st\n",
        "\n",
        "st3 = st.difference(st2)  # разность - есть в множестве st и нет в st2\n",
        "st3 = st - st2  # разность через оператор\n",
        "print(st3)\n",
        "# st.difference_update(st2) - разность с обновлением st\n",
        "\n",
        "st3 = st.symmetric_difference(st2)  # симметрическая разность\n",
        "st3 = st ^ st2  # симметрическая разность через оператор\n",
        "print(st3)\n",
        "# st.symmetric_difference_update(st2) - симметрическая разность с обновлением st"
      ],
      "metadata": {
        "id": "g7q5Yt6gSjtE",
        "colab": {
          "base_uri": "https://localhost:8080/"
        },
        "outputId": "72af38ef-7ce2-4c4e-e0d8-d5fd1b452fe5"
      },
      "execution_count": null,
      "outputs": [
        {
          "output_type": "stream",
          "name": "stdout",
          "text": [
            "{1, 2, 3, 4}\n",
            "{2, 3}\n",
            "{1}\n",
            "{1, 4}\n"
          ]
        }
      ]
    },
    {
      "cell_type": "code",
      "source": [
        "st = {1, 2, 3}\n",
        "st2 = {1, 3}\n",
        "\n",
        "# является ли одно множество подмножеством другого\n",
        "print(st.issubset(st2))\n",
        "print(st2.issubset(st))\n",
        "\n",
        "# является ли одно множество надмножеством другого\n",
        "print(st.issuperset(st2))\n",
        "print(st2.issuperset(st))"
      ],
      "metadata": {
        "id": "oO4THJu8U5CP",
        "colab": {
          "base_uri": "https://localhost:8080/"
        },
        "outputId": "8f1ec7bd-7293-49ee-e689-7aa6845657ba"
      },
      "execution_count": null,
      "outputs": [
        {
          "output_type": "stream",
          "name": "stdout",
          "text": [
            "False\n",
            "True\n",
            "True\n",
            "False\n"
          ]
        }
      ]
    },
    {
      "cell_type": "code",
      "source": [
        "# неизменяемое множество\n",
        "\n",
        "st = {1, 2, 3}\n",
        "fst = frozenset(st)  # создание из множества\n",
        "\n",
        "fst = frozenset([1, 2, 3, 3])  # создание из списка\n",
        "print(fst)"
      ],
      "metadata": {
        "id": "vpNBzFX4WhAG",
        "colab": {
          "base_uri": "https://localhost:8080/"
        },
        "outputId": "058e67c4-f7b0-4567-a7d2-c9dea639883f"
      },
      "execution_count": null,
      "outputs": [
        {
          "output_type": "stream",
          "name": "stdout",
          "text": [
            "frozenset({1, 2, 3})\n"
          ]
        }
      ]
    },
    {
      "cell_type": "markdown",
      "source": [
        "### List comprehension\n",
        "(и не только list)"
      ],
      "metadata": {
        "id": "MFIN3Nh8YuAk"
      }
    },
    {
      "cell_type": "code",
      "source": [
        "lst = [1, 2, 3, 4, 5]\n",
        "\n",
        "# генерация списка\n",
        "lst2 = [item ** 2 for item in lst]\n",
        "print(lst2)\n",
        "\n",
        "# генерация списка с условием\n",
        "lst2 = [item ** 2 for item in lst if item % 2 != 0]\n",
        "print(lst2)"
      ],
      "metadata": {
        "id": "_2nXDYaZYzsq",
        "colab": {
          "base_uri": "https://localhost:8080/"
        },
        "outputId": "99d0adba-3e64-4b34-ce80-2bed5c626940"
      },
      "execution_count": null,
      "outputs": [
        {
          "output_type": "stream",
          "name": "stdout",
          "text": [
            "[1, 4, 9, 16, 25]\n",
            "[1, 9, 25]\n"
          ]
        }
      ]
    },
    {
      "cell_type": "code",
      "source": [
        "lst = [1, 2, 3, 4, 5, 5, 5]\n",
        "\n",
        "# генерация словаря\n",
        "dct = {item: item ** 2 for item in lst}\n",
        "print(dct)\n",
        "\n",
        "# генерация множества\n",
        "st = {item ** 2 for item in lst}\n",
        "print(type(st), st)"
      ],
      "metadata": {
        "id": "dJYto7AgZVte",
        "colab": {
          "base_uri": "https://localhost:8080/"
        },
        "outputId": "bad2c114-4722-4554-f55c-2d169175a532"
      },
      "execution_count": null,
      "outputs": [
        {
          "output_type": "stream",
          "name": "stdout",
          "text": [
            "{1: 1, 2: 4, 3: 9, 4: 16, 5: 25}\n",
            "<class 'set'> {1, 4, 9, 16, 25}\n"
          ]
        }
      ]
    },
    {
      "cell_type": "markdown",
      "source": [
        "## Функции"
      ],
      "metadata": {
        "id": "PhSgSxdmbzkn"
      }
    },
    {
      "cell_type": "code",
      "source": [
        "def sum(a, b):  # заголовок\n",
        "    res = a + b\n",
        "    return res  # возврат значения\n",
        "\n",
        "c = sum(1, 2)\n",
        "print(c)"
      ],
      "metadata": {
        "id": "gtPRpemCb1Se",
        "colab": {
          "base_uri": "https://localhost:8080/"
        },
        "outputId": "c9189aa9-dde1-49e4-c789-dd54b5d0470f"
      },
      "execution_count": null,
      "outputs": [
        {
          "output_type": "stream",
          "name": "stdout",
          "text": [
            "3\n"
          ]
        }
      ]
    },
    {
      "cell_type": "code",
      "source": [
        "# параметры по умолчанию\n",
        "\n",
        "def sum(a, b=0):\n",
        "    res = a + b\n",
        "    return res\n",
        "\n",
        "sum(1)"
      ],
      "metadata": {
        "id": "gFZ1tdUSsuw2",
        "colab": {
          "base_uri": "https://localhost:8080/"
        },
        "outputId": "edfeac92-054b-4e8e-f60f-904c8b08a8e8"
      },
      "execution_count": null,
      "outputs": [
        {
          "output_type": "execute_result",
          "data": {
            "text/plain": [
              "1"
            ]
          },
          "metadata": {},
          "execution_count": 33
        }
      ]
    },
    {
      "cell_type": "code",
      "source": [
        "# передача значений по имени\n",
        "\n",
        "sum(b=5, a=10)"
      ],
      "metadata": {
        "id": "s_jOx9wJtNhu",
        "colab": {
          "base_uri": "https://localhost:8080/"
        },
        "outputId": "7f3ec58d-fe9e-4a9d-8850-fc9b7f5ec479"
      },
      "execution_count": null,
      "outputs": [
        {
          "output_type": "execute_result",
          "data": {
            "text/plain": [
              "15"
            ]
          },
          "metadata": {},
          "execution_count": 34
        }
      ]
    },
    {
      "cell_type": "code",
      "source": [
        "# неопределённое количество параметров\n",
        "\n",
        "def sum(*numbers):\n",
        "    res = 0\n",
        "    for num in numbers:\n",
        "        res += num\n",
        "    return res\n",
        "\n",
        "sum(1, 2, 3)"
      ],
      "metadata": {
        "id": "oaXggy5Ht-FQ",
        "colab": {
          "base_uri": "https://localhost:8080/"
        },
        "outputId": "b9dbab82-5de4-4476-8266-65e863b06c8b"
      },
      "execution_count": null,
      "outputs": [
        {
          "output_type": "execute_result",
          "data": {
            "text/plain": [
              "6"
            ]
          },
          "metadata": {},
          "execution_count": 35
        }
      ]
    },
    {
      "cell_type": "code",
      "source": [
        "# type-hinting и docstring\n",
        "\n",
        "def sum(a: int, b: int) -> int:\n",
        "    \"\"\"\n",
        "    Сумма чисел.\n",
        "    :param a: первое слагаемое\n",
        "    :param b: второе слагаемое\n",
        "    :return: сумма\n",
        "    \"\"\"\n",
        "    res = a + b\n",
        "    return res\n",
        "\n",
        "tmp: int = 0"
      ],
      "metadata": {
        "id": "cFaldNn5vBD3"
      },
      "execution_count": null,
      "outputs": []
    },
    {
      "cell_type": "code",
      "source": [
        "# lambda-функции\n",
        "\n",
        "l_sum = lambda a, b: a + b\n",
        "\n",
        "print(l_sum(3, 3))\n",
        "\n",
        "# пример\n",
        "lst = [[1, 2], [4, 5], [0, 1]]\n",
        "lst.sort(key=lambda x: x[0] + x[1])\n",
        "print(lst)"
      ],
      "metadata": {
        "id": "71c4Ou5Ow8ul",
        "colab": {
          "base_uri": "https://localhost:8080/"
        },
        "outputId": "acdaf0fb-6377-4b01-d88e-a0b90155945d"
      },
      "execution_count": null,
      "outputs": [
        {
          "output_type": "stream",
          "name": "stdout",
          "text": [
            "6\n",
            "[[0, 1], [1, 2], [4, 5]]\n"
          ]
        }
      ]
    }
  ]
}