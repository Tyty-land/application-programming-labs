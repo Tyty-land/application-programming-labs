{
  "nbformat": 4,
  "nbformat_minor": 0,
  "metadata": {
    "colab": {
      "provenance": []
    },
    "kernelspec": {
      "name": "python3",
      "display_name": "Python 3"
    },
    "language_info": {
      "name": "python"
    }
  },
  "cells": [
    {
      "cell_type": "markdown",
      "source": [
        "## Модули"
      ],
      "metadata": {
        "id": "foLgtdBR8Np0"
      }
    },
    {
      "cell_type": "code",
      "source": [
        "# импорт модуля\n",
        "import math\n",
        "\n",
        "# обращение к функции модуля\n",
        "math.sqrt(9)\n",
        "\n",
        "# псевдоним модуля\n",
        "import math as m\n",
        "m.sqrt(9)\n",
        "\n",
        "# импорт одной функции из модуля\n",
        "from math import sqrt\n",
        "sqrt(9)"
      ],
      "metadata": {
        "id": "UKYIUQp68Mqp",
        "colab": {
          "base_uri": "https://localhost:8080/"
        },
        "outputId": "edd003e2-5371-4534-8c41-85cc89aed5e4"
      },
      "execution_count": null,
      "outputs": [
        {
          "output_type": "execute_result",
          "data": {
            "text/plain": [
              "3.0"
            ]
          },
          "metadata": {},
          "execution_count": 1
        }
      ]
    },
    {
      "cell_type": "code",
      "source": [
        "# установка внешнего модуля\n",
        "!pip install icrawler"
      ],
      "metadata": {
        "id": "i0YONfDX9_Xd",
        "colab": {
          "base_uri": "https://localhost:8080/"
        },
        "outputId": "7128e51f-6c6d-4c26-a252-8580581c83f2"
      },
      "execution_count": null,
      "outputs": [
        {
          "output_type": "stream",
          "name": "stdout",
          "text": [
            "Collecting icrawler\n",
            "  Downloading icrawler-0.6.9-py3-none-any.whl.metadata (2.8 kB)\n",
            "Requirement already satisfied: beautifulsoup4 in /usr/local/lib/python3.10/dist-packages (from icrawler) (4.12.3)\n",
            "Collecting bs4 (from icrawler)\n",
            "  Downloading bs4-0.0.2-py2.py3-none-any.whl.metadata (411 bytes)\n",
            "Requirement already satisfied: lxml in /usr/local/lib/python3.10/dist-packages (from icrawler) (4.9.4)\n",
            "Requirement already satisfied: pillow in /usr/local/lib/python3.10/dist-packages (from icrawler) (9.4.0)\n",
            "Requirement already satisfied: pyyaml in /usr/local/lib/python3.10/dist-packages (from icrawler) (6.0.2)\n",
            "Requirement already satisfied: requests in /usr/local/lib/python3.10/dist-packages (from icrawler) (2.32.3)\n",
            "Requirement already satisfied: six in /usr/local/lib/python3.10/dist-packages (from icrawler) (1.16.0)\n",
            "Requirement already satisfied: soupsieve>1.2 in /usr/local/lib/python3.10/dist-packages (from beautifulsoup4->icrawler) (2.6)\n",
            "Requirement already satisfied: charset-normalizer<4,>=2 in /usr/local/lib/python3.10/dist-packages (from requests->icrawler) (3.3.2)\n",
            "Requirement already satisfied: idna<4,>=2.5 in /usr/local/lib/python3.10/dist-packages (from requests->icrawler) (3.8)\n",
            "Requirement already satisfied: urllib3<3,>=1.21.1 in /usr/local/lib/python3.10/dist-packages (from requests->icrawler) (2.0.7)\n",
            "Requirement already satisfied: certifi>=2017.4.17 in /usr/local/lib/python3.10/dist-packages (from requests->icrawler) (2024.8.30)\n",
            "Downloading icrawler-0.6.9-py3-none-any.whl (34 kB)\n",
            "Downloading bs4-0.0.2-py2.py3-none-any.whl (1.2 kB)\n",
            "Installing collected packages: bs4, icrawler\n",
            "Successfully installed bs4-0.0.2 icrawler-0.6.9\n"
          ]
        }
      ]
    },
    {
      "cell_type": "markdown",
      "source": [
        "## OS"
      ],
      "metadata": {
        "id": "urGEjDG1I0lM"
      }
    },
    {
      "cell_type": "code",
      "source": [
        "import os\n",
        "\n",
        "os.getcwd()  # рабочая директория"
      ],
      "metadata": {
        "id": "e2jb7pbGI622",
        "colab": {
          "base_uri": "https://localhost:8080/",
          "height": 35
        },
        "outputId": "cd891acb-7e4f-4f4b-ac22-e987a049749d"
      },
      "execution_count": null,
      "outputs": [
        {
          "output_type": "execute_result",
          "data": {
            "text/plain": [
              "'/content'"
            ],
            "application/vnd.google.colaboratory.intrinsic+json": {
              "type": "string"
            }
          },
          "metadata": {},
          "execution_count": 3
        }
      ]
    },
    {
      "cell_type": "code",
      "source": [
        "os.chdir(\"sample_data\")  # изменим рабочую директорию\n",
        "print(os.getcwd())\n",
        "\n",
        "os.chdir(\"/content\")  # вернёмся назад (к корневой директории)\n",
        "print(os.getcwd())"
      ],
      "metadata": {
        "id": "jmBDYDmCLUSJ",
        "colab": {
          "base_uri": "https://localhost:8080/"
        },
        "outputId": "cd08385a-a9d7-4a3c-87d8-1f528b4a7d6e"
      },
      "execution_count": null,
      "outputs": [
        {
          "output_type": "stream",
          "name": "stdout",
          "text": [
            "/content/sample_data\n",
            "/content\n"
          ]
        }
      ]
    },
    {
      "cell_type": "code",
      "source": [
        "os.listdir()  # список каталогов и файлов в текущей директории"
      ],
      "metadata": {
        "id": "BEhEUB3qNIuU",
        "colab": {
          "base_uri": "https://localhost:8080/"
        },
        "outputId": "6c8b61ac-2fbd-4abd-8839-90ae779d9218"
      },
      "execution_count": null,
      "outputs": [
        {
          "output_type": "execute_result",
          "data": {
            "text/plain": [
              "['.config', 'sample_data']"
            ]
          },
          "metadata": {},
          "execution_count": 5
        }
      ]
    },
    {
      "cell_type": "code",
      "source": [
        "os.mkdir(\"new_dir\")  # создание новой папки\n",
        "print(os.listdir())\n",
        "\n",
        "# создание новой директории вместе с промежуточными директориями\n",
        "os.makedirs(\"new_dir2/sub_dir\")\n",
        "print(os.listdir())"
      ],
      "metadata": {
        "id": "3IpguUubNhRi",
        "colab": {
          "base_uri": "https://localhost:8080/"
        },
        "outputId": "9464b68a-2ada-4c61-d287-623fbb17da18"
      },
      "execution_count": null,
      "outputs": [
        {
          "output_type": "stream",
          "name": "stdout",
          "text": [
            "['.config', 'new_dir', 'sample_data']\n",
            "['.config', 'new_dir', 'new_dir2', 'sample_data']\n"
          ]
        }
      ]
    },
    {
      "cell_type": "code",
      "source": [
        "print(os.listdir(\"sample_data\"))\n",
        "os.remove(\"sample_data/mnist_test.csv\")  # удаление файла\n",
        "print(os.listdir(\"sample_data\"))\n",
        "\n",
        "os.rmdir(\"new_dir\")  # удаление папки (можно удалять только пустую!)\n",
        "print(os.listdir())"
      ],
      "metadata": {
        "id": "bq6NoCMBPLLC",
        "colab": {
          "base_uri": "https://localhost:8080/"
        },
        "outputId": "016bc46c-51b9-494f-9875-3f6a12a26dcc"
      },
      "execution_count": null,
      "outputs": [
        {
          "output_type": "stream",
          "name": "stdout",
          "text": [
            "['anscombe.json', 'README.md', 'california_housing_test.csv', 'mnist_train_small.csv', 'california_housing_train.csv', 'mnist_test.csv']\n",
            "['anscombe.json', 'README.md', 'california_housing_test.csv', 'mnist_train_small.csv', 'california_housing_train.csv']\n",
            "['.config', 'sample_data', 'new_dir2']\n"
          ]
        }
      ]
    },
    {
      "cell_type": "code",
      "source": [
        "print(os.listdir())\n",
        "os.rename(\"new_dir2\",\"new_dir\")  # переименование папки или файла\n",
        "print(os.listdir())"
      ],
      "metadata": {
        "id": "5ma9rRRHQBzQ",
        "colab": {
          "base_uri": "https://localhost:8080/"
        },
        "outputId": "d72a1f3e-5dcb-4073-da35-4be720905a07"
      },
      "execution_count": null,
      "outputs": [
        {
          "output_type": "stream",
          "name": "stdout",
          "text": [
            "['.config', 'sample_data', 'new_dir2']\n",
            "['.config', 'new_dir', 'sample_data']\n"
          ]
        }
      ]
    },
    {
      "cell_type": "code",
      "source": [
        "# os.walk() - производит генерацию имён файлов в дереве каталогов;\n",
        "# для каждого каталога возвращает кортеж\n",
        "# (путь к каталогу, список каталогов, список файлов в них).\n",
        "for root, dirs, files in os.walk(os.getcwd()):\n",
        "    print(root, dirs, files)\n",
        "\n",
        "print()\n",
        "\n",
        "# с помощью этого метода можно, например, получить все файлы\n",
        "# в каталоге и подкаталогах\n",
        "all_files = []\n",
        "for _, _, files in os.walk(os.getcwd()):\n",
        "    all_files.extend(files)\n",
        "\n",
        "print(\"All files:\", all_files)"
      ],
      "metadata": {
        "id": "pWDHuq1kQYBo",
        "colab": {
          "base_uri": "https://localhost:8080/"
        },
        "outputId": "345a1e0a-3810-4d97-dd8c-369047d87209"
      },
      "execution_count": null,
      "outputs": [
        {
          "output_type": "stream",
          "name": "stdout",
          "text": [
            "/content ['.config', 'new_dir', 'sample_data'] []\n",
            "/content/.config ['logs', 'configurations'] ['.last_opt_in_prompt.yaml', '.last_survey_prompt.yaml', 'active_config', 'config_sentinel', 'hidden_gcloud_config_universe_descriptor_data_cache_configs.db', '.last_update_check.json', 'default_configs.db', 'gce']\n",
            "/content/.config/logs ['2024.09.12'] []\n",
            "/content/.config/logs/2024.09.12 [] ['13.21.51.525083.log', '13.21.50.365525.log', '13.21.38.463552.log', '13.21.14.554515.log', '13.22.04.086682.log', '13.22.03.388198.log']\n",
            "/content/.config/configurations [] ['config_default']\n",
            "/content/new_dir ['sub_dir'] []\n",
            "/content/new_dir/sub_dir [] []\n",
            "/content/sample_data [] ['anscombe.json', 'README.md', 'california_housing_test.csv', 'mnist_train_small.csv', 'california_housing_train.csv']\n",
            "\n",
            "All files: ['.last_opt_in_prompt.yaml', '.last_survey_prompt.yaml', 'active_config', 'config_sentinel', 'hidden_gcloud_config_universe_descriptor_data_cache_configs.db', '.last_update_check.json', 'default_configs.db', 'gce', '13.21.51.525083.log', '13.21.50.365525.log', '13.21.38.463552.log', '13.21.14.554515.log', '13.22.04.086682.log', '13.22.03.388198.log', 'config_default', 'anscombe.json', 'README.md', 'california_housing_test.csv', 'mnist_train_small.csv', 'california_housing_train.csv']\n"
          ]
        }
      ]
    },
    {
      "cell_type": "code",
      "source": [
        "# исполняет строку как системную команду и возвращает код ее завершения\n",
        "os.system(\"mkdir new_dir2\")"
      ],
      "metadata": {
        "id": "74D4oTFtSCNB",
        "colab": {
          "base_uri": "https://localhost:8080/"
        },
        "outputId": "2c9106cd-db22-4276-dbe4-f29376ae1fe0"
      },
      "execution_count": null,
      "outputs": [
        {
          "output_type": "execute_result",
          "data": {
            "text/plain": [
              "0"
            ]
          },
          "metadata": {},
          "execution_count": 10
        }
      ]
    },
    {
      "cell_type": "markdown",
      "source": [
        "### os.path\n",
        "Модуль os.path содержит набор функций для манипуляции путями к файлам и директориям."
      ],
      "metadata": {
        "id": "vCt8rgO8SXMc"
      }
    },
    {
      "cell_type": "code",
      "source": [
        "# конкатенация частей пути к файлу или директории\n",
        "print(os.path.join(r'/content/sample_data','README.md'))\n",
        "print(os.path.join(r'/content', 'sample_data','README.md'))"
      ],
      "metadata": {
        "id": "s77d0uCgSTYc",
        "colab": {
          "base_uri": "https://localhost:8080/"
        },
        "outputId": "c757035f-642c-4579-a62d-8ed7f886a2c4"
      },
      "execution_count": null,
      "outputs": [
        {
          "output_type": "stream",
          "name": "stdout",
          "text": [
            "/content/sample_data/README.md\n",
            "/content/sample_data/README.md\n"
          ]
        }
      ]
    },
    {
      "cell_type": "code",
      "source": [
        "# разделение полного пути к файлам и директориям на их имя и путь к ним\n",
        "print(os.path.split('/content/sample_data/README.md'))\n",
        "\n",
        "print(os.path.split('/content/new_dir/new_dir'))"
      ],
      "metadata": {
        "id": "rFL_ST6fTP2k",
        "colab": {
          "base_uri": "https://localhost:8080/"
        },
        "outputId": "ed133e53-6f71-4fb0-b608-758154e135ab"
      },
      "execution_count": null,
      "outputs": [
        {
          "output_type": "stream",
          "name": "stdout",
          "text": [
            "('/content/sample_data', 'README.md')\n",
            "('/content/new_dir', 'new_dir')\n"
          ]
        }
      ]
    },
    {
      "cell_type": "code",
      "source": [
        "# разделение пути к файлу его расширения\n",
        "print(os.path.splitext('/content/sample_data/README.md'))\n",
        "\n",
        "# у папки расширения нет, поэтому пустая строка\n",
        "print(os.path.splitext('/content/new_dir/new_dir'))"
      ],
      "metadata": {
        "id": "a8ZxM9P5ULUR",
        "colab": {
          "base_uri": "https://localhost:8080/"
        },
        "outputId": "8f7a6cfb-fac5-4268-a70b-d5a6490de421"
      },
      "execution_count": null,
      "outputs": [
        {
          "output_type": "stream",
          "name": "stdout",
          "text": [
            "('/content/sample_data/README', '.md')\n",
            "('/content/new_dir/new_dir', '')\n"
          ]
        }
      ]
    },
    {
      "cell_type": "code",
      "source": [
        "# размер файла или директории в байтах\n",
        "print(os.path.getsize('/content/sample_data/README.md'))\n",
        "\n",
        "print(os.path.getsize('/content/sample_data'))"
      ],
      "metadata": {
        "id": "m-0pNkn5Up39",
        "colab": {
          "base_uri": "https://localhost:8080/"
        },
        "outputId": "4039655c-5e18-4b75-e050-d0f339b705fe"
      },
      "execution_count": null,
      "outputs": [
        {
          "output_type": "stream",
          "name": "stdout",
          "text": [
            "930\n",
            "4096\n"
          ]
        }
      ]
    },
    {
      "cell_type": "code",
      "source": [
        "# получение абсолютного пути к файлу или директории\n",
        "os.path.realpath('README.md')"
      ],
      "metadata": {
        "id": "JaKnBz9GUzuw",
        "colab": {
          "base_uri": "https://localhost:8080/",
          "height": 35
        },
        "outputId": "14e6a052-4712-4e4b-8e11-9087d56e8e8e"
      },
      "execution_count": null,
      "outputs": [
        {
          "output_type": "execute_result",
          "data": {
            "text/plain": [
              "'/content/README.md'"
            ],
            "application/vnd.google.colaboratory.intrinsic+json": {
              "type": "string"
            }
          },
          "metadata": {},
          "execution_count": 15
        }
      ]
    },
    {
      "cell_type": "code",
      "source": [
        "# проверка существования файла или директории\n",
        "print(os.path.exists(r\"/content/sample_data\"))\n",
        "\n",
        "print(os.path.exists(r\"/content/my_file.txt\"))"
      ],
      "metadata": {
        "id": "88YGNBVaVK7y",
        "colab": {
          "base_uri": "https://localhost:8080/"
        },
        "outputId": "c39a6732-3934-4e57-9806-6636a3288314"
      },
      "execution_count": null,
      "outputs": [
        {
          "output_type": "stream",
          "name": "stdout",
          "text": [
            "True\n",
            "False\n"
          ]
        }
      ]
    },
    {
      "cell_type": "markdown",
      "source": [
        "## Работа с файлами"
      ],
      "metadata": {
        "id": "Y1SowSTrVq2b"
      }
    },
    {
      "cell_type": "code",
      "source": [
        "f = open('new_file.txt', mode='w', encoding='utf-8')  # открытие файла\n",
        "f.close()  # закрытие файла"
      ],
      "metadata": {
        "id": "xXTRUGzNVs21"
      },
      "execution_count": null,
      "outputs": []
    },
    {
      "cell_type": "markdown",
      "source": [
        "Режимы работы с файлом:\n",
        "\n",
        "**r** - чтение; указатель на начале файла; вызывается по умолчанию,\n",
        "\n",
        "**r+** - одновременные чтение и запись; указатель на начале файла,\n",
        "\n",
        "**rb** - чтение в бинарном формате; указатель на начале файла,\n",
        "\n",
        "**rb+** - одновременные чтение и запись в бинарном формате; указатель на начале файла,\n",
        "\n",
        "**w** - запись; перезаписывает файл, если он есть; создает новый файл, если его нет,\n",
        "\n",
        "**wb** - запись в бинарном формате; перезаписывает файл, если он есть; создает новый файл, если его нет,\n",
        "\n",
        "**w+** - одновременные чтение и запись; перезаписывает файл, если он есть; создает новый файл, если его нет,\n",
        "\n",
        "**a** - добавление; указатель на конце файла, если файл есть; создает новый файл, если его нет,\n",
        "\n",
        "**ab** - добавление в бинарном формате; указатель на конце файла, если файл есть; создает новый файл, если его нет,\n",
        "\n",
        "**a+** - одновременные чтение и добавление; указатель на конце файла, если файл есть, создает новый файл, если его нет,\n",
        "\n",
        "**ab+** - одновременные чтение и добавление в бинарном формате; указатель на конце файла, если файл есть; создает новый файл, если его нет."
      ],
      "metadata": {
        "id": "rGoY8zBlWFEx"
      }
    },
    {
      "cell_type": "code",
      "source": [
        "# для автоматического закрытия файла лучше использовать конструкцию with open\n",
        "with open('new_file.txt', mode='r', encoding='utf-8') as file:\n",
        "    print(file)"
      ],
      "metadata": {
        "id": "pC85yLmIXAu9",
        "colab": {
          "base_uri": "https://localhost:8080/"
        },
        "outputId": "6d10ab23-cd7a-44de-e2f0-ff9a33e01f23"
      },
      "execution_count": null,
      "outputs": [
        {
          "output_type": "stream",
          "name": "stdout",
          "text": [
            "<_io.TextIOWrapper name='new_file.txt' mode='r' encoding='utf-8'>\n"
          ]
        }
      ]
    },
    {
      "cell_type": "code",
      "source": [
        "# запись в файл\n",
        "\n",
        "with open('new_file.txt', mode='w', encoding='utf-8') as file:\n",
        "    file.write(\"Some text\\n\")  # запись строки\n",
        "\n",
        "with open('new_file.txt', mode='a', encoding='utf-8') as file:\n",
        "    file.writelines([\"Str1\", \"Str2\", \"Str3\"])  # запись списка строк\n",
        "\n",
        "with open('new_file.txt', mode='a', encoding='utf-8') as file:\n",
        "    print(\"Print str\", file=file)  # запись через функцию print"
      ],
      "metadata": {
        "id": "p8EHb8ruXeLz"
      },
      "execution_count": null,
      "outputs": []
    },
    {
      "cell_type": "code",
      "source": [
        "# чтение из файла\n",
        "\n",
        "with open('new_file.txt', mode='r', encoding='utf-8') as file:\n",
        "    text = file.read()  # чтение файла\n",
        "\n",
        "print(text)"
      ],
      "metadata": {
        "id": "qfcJHY_tYuby",
        "colab": {
          "base_uri": "https://localhost:8080/"
        },
        "outputId": "d464b1e0-cea0-4f30-f8c0-ac873d8fd101"
      },
      "execution_count": null,
      "outputs": [
        {
          "output_type": "stream",
          "name": "stdout",
          "text": [
            "Some text\n",
            "Str1Str2Str3Print str\n",
            "\n"
          ]
        }
      ]
    },
    {
      "cell_type": "code",
      "source": [
        "with open('new_file.txt', mode='r', encoding='utf-8') as file:\n",
        "    text = file.readline()  # чтение одной строки\n",
        "    print(text)\n",
        "    text = file.readline()\n",
        "    print(text)"
      ],
      "metadata": {
        "id": "Xd5HvI6lZTt6",
        "colab": {
          "base_uri": "https://localhost:8080/"
        },
        "outputId": "8e5e782f-32c5-499c-c313-adbeb714b1e4"
      },
      "execution_count": null,
      "outputs": [
        {
          "output_type": "stream",
          "name": "stdout",
          "text": [
            "Some text\n",
            "\n",
            "Str1Str2Str3Print str\n",
            "\n"
          ]
        }
      ]
    },
    {
      "cell_type": "code",
      "source": [
        "with open('new_file.txt', mode='r', encoding='utf-8') as file:\n",
        "    text = file.readlines()  # чтение всех строк\n",
        "print(text)"
      ],
      "metadata": {
        "id": "-PhU3tQibm_8",
        "colab": {
          "base_uri": "https://localhost:8080/"
        },
        "outputId": "453198c4-06ea-49c2-a21f-62f333a0ecb6"
      },
      "execution_count": null,
      "outputs": [
        {
          "output_type": "stream",
          "name": "stdout",
          "text": [
            "['Some text\\n', 'Str1Str2Str3Print str\\n']\n"
          ]
        }
      ]
    },
    {
      "cell_type": "code",
      "source": [
        "with open('new_file.txt', mode='r', encoding='utf-8') as file:\n",
        "    for line in file:  # чтение по строкам\n",
        "        print(f\"New line: {line}\")"
      ],
      "metadata": {
        "id": "T8ehMiCHcFGM",
        "colab": {
          "base_uri": "https://localhost:8080/"
        },
        "outputId": "53aebfa0-6e32-4823-dfa6-0c9c61da039a"
      },
      "execution_count": null,
      "outputs": [
        {
          "output_type": "stream",
          "name": "stdout",
          "text": [
            "New line: Some text\n",
            "\n",
            "New line: Str1Str2Str3Print str\n",
            "\n"
          ]
        }
      ]
    },
    {
      "cell_type": "markdown",
      "source": [
        "## Аргументы командной строки"
      ],
      "metadata": {
        "id": "9K1k_hUMcn84"
      }
    },
    {
      "cell_type": "code",
      "source": [
        "%%writefile argparse_example.py\n",
        "import argparse\n",
        "\n",
        "parser = argparse.ArgumentParser()  # создание экземпляра парсера\n",
        "parser.add_argument('name', type=str, help='your name')  # добавление позиционного аргумента командной строки\n",
        "parser.add_argument(\"-s\", \"--surname\", type=str, help=\"your surname\")  # добавление необязательного аргумента\n",
        "# обязательный строковый аргумент, значение которого должно попадать в указанный список\n",
        "parser.add_argument('-p','--position', type=str, choices=['student','teacher'], help='your position', required=True)\n",
        "args = parser.parse_args()  # парсинг аргументов\n",
        "\n",
        "# использование полученных значений аргументов\n",
        "if args.surname is not None:  # проверка на существование значения\n",
        "    print(f\"Hello, {args.name} {args.surname}!\")\n",
        "else:\n",
        "    print(f\"Hello, {args.name}!\")\n",
        "print(f\"Position: {args.position}\")"
      ],
      "metadata": {
        "id": "chlBeFEpcqxW",
        "colab": {
          "base_uri": "https://localhost:8080/"
        },
        "outputId": "87b71f89-77e1-4872-9fcf-95ae489795df"
      },
      "execution_count": null,
      "outputs": [
        {
          "output_type": "stream",
          "name": "stdout",
          "text": [
            "Writing argparse_example.py\n"
          ]
        }
      ]
    },
    {
      "cell_type": "code",
      "source": [
        "!python argparse_example.py --h"
      ],
      "metadata": {
        "colab": {
          "base_uri": "https://localhost:8080/"
        },
        "id": "Q1vxFO9BGN2G",
        "outputId": "5cc35485-2569-4637-fc62-97be1f09bb9e"
      },
      "execution_count": null,
      "outputs": [
        {
          "output_type": "stream",
          "name": "stdout",
          "text": [
            "usage: argparse_example.py [-h] [-s SURNAME] -p {student,teacher} name\n",
            "\n",
            "positional arguments:\n",
            "  name                  your name\n",
            "\n",
            "options:\n",
            "  -h, --help            show this help message and exit\n",
            "  -s SURNAME, --surname SURNAME\n",
            "                        your surname\n",
            "  -p {student,teacher}, --position {student,teacher}\n",
            "                        your position\n"
          ]
        }
      ]
    },
    {
      "cell_type": "code",
      "source": [
        "!python argparse_example.py Ivan -s Ivanov -p student"
      ],
      "metadata": {
        "id": "JuzrgdIN4yx9",
        "colab": {
          "base_uri": "https://localhost:8080/"
        },
        "outputId": "7eb65fe0-a61f-48ac-d4c7-7f439f979c1d"
      },
      "execution_count": null,
      "outputs": [
        {
          "output_type": "stream",
          "name": "stdout",
          "text": [
            "usage: argparse_example.py [-h] [-s SURNAME] -p {student,teacher} name\n",
            "argparse_example.py: error: argument -p/--position: invalid choice: 'stude' (choose from 'student', 'teacher')\n"
          ]
        }
      ]
    },
    {
      "cell_type": "code",
      "source": [
        "!python argparse_example.py Ivan -p student"
      ],
      "metadata": {
        "id": "8xz8xnxd7IVa",
        "colab": {
          "base_uri": "https://localhost:8080/"
        },
        "outputId": "604b0e73-94d2-4503-955b-2072820d19a3"
      },
      "execution_count": null,
      "outputs": [
        {
          "output_type": "stream",
          "name": "stdout",
          "text": [
            "Hello, Ivan!\n",
            "Position: student\n"
          ]
        }
      ]
    },
    {
      "cell_type": "markdown",
      "source": [
        "## Регулярные выражения"
      ],
      "metadata": {
        "id": "xjONRQLahgfl"
      }
    },
    {
      "cell_type": "markdown",
      "source": [
        "Регулярные выражения в Python используются для поиска, обработки и манипуляции строками, соответствующими заданным шаблонам. Шаблоном для регулярных выражений может считаться любая строка - в этом случае будет выполнен обычный поиск по подстроке. Если же мы хотим создать более сложный шаблон, то необходимо использовать спецсимволы."
      ],
      "metadata": {
        "id": "3UB6E5yuh0F1"
      }
    },
    {
      "cell_type": "markdown",
      "source": [
        "#### **Шаблоны, соответствующие одному символу**\n",
        "\n",
        "- `.` - Один любой символ, кроме новой строки `\\n`.\n",
        "\n",
        "- `\\d` - Любая цифра\n",
        "- `\\D` - Любой символ, кроме цифры\n",
        "\n",
        "- `\\s` - Любой пробельный символ (пробел, табуляция, конец строки и т.п.)\n",
        "- `\\S` - Любой непробельный символ\n",
        "\n",
        "- `\\w` - Любая буква (то, что может быть частью слова), а также цифры и `_`\n",
        "- `\\W` - Любая не-буква, не-цифра и не подчёркивание\n",
        "\n",
        "- `[..]` - Один из символов в скобках,\n",
        "а также любой символ из диапазона `a-b`\n",
        "- `[^..]` - Любой символ, кроме перечисленных\n",
        "\n",
        "- `[0-5]` - Диапазон символов\n",
        "\n",
        "- `\\b` - Начало или конец слова\n",
        "- `\\B` - Не граница слова"
      ],
      "metadata": {
        "id": "ETnZ7M0uiSCd"
      }
    },
    {
      "cell_type": "markdown",
      "source": [
        "#### **Квантификаторы (указание количества повторений)**\n",
        "\n",
        "- `{n}` - Ровно n повторений\n",
        "- `{m,n}` - От m до n повторений включительно\n",
        "- `{m,}` - Не менее m повторений\n",
        "- `{,n}` - \tНе более n повторений\n",
        "- `?` - Ноль или одно вхождение, синоним {0,1}\n",
        "- `*` - Ноль или более, синоним {0,}\n",
        "- `+` - Одно или более, синоним {1,}"
      ],
      "metadata": {
        "id": "TuPquWhak6Rn"
      }
    },
    {
      "cell_type": "markdown",
      "source": [
        "#### **Функции библиотеки re**"
      ],
      "metadata": {
        "id": "ym7reIu67wSa"
      }
    },
    {
      "cell_type": "code",
      "source": [
        "import re\n",
        "\n",
        "pattern = r\"\\d+\"\n",
        "string = \"I'm 20 years old.\"\n",
        "\n",
        "# поиск в строке string первой подстроки, подходящей под шаблон pattern\n",
        "res = re.search(pattern, string)\n",
        "print(res.group() if res else 'Not found')"
      ],
      "metadata": {
        "id": "NUaj7S5Olef8",
        "colab": {
          "base_uri": "https://localhost:8080/"
        },
        "outputId": "cd7551c4-abb9-4e8b-cc06-a88a482015ae"
      },
      "execution_count": null,
      "outputs": [
        {
          "output_type": "stream",
          "name": "stdout",
          "text": [
            "20\n"
          ]
        }
      ]
    },
    {
      "cell_type": "code",
      "source": [
        "pattern = r\"\\w+\\s\\w+\"\n",
        "string = \"Big snake\"\n",
        "\n",
        "# Проверка соответствие строки string шаблону pattern\n",
        "res = re.fullmatch(pattern, string)\n",
        "print(res[0] if res else 'Not found')\n",
        "\n",
        "\n",
        "string = \"Big snake.\"\n",
        "\n",
        "res = re.fullmatch(pattern, string)\n",
        "print(res[0] if res else 'Not found')"
      ],
      "metadata": {
        "id": "xiS5p62rnuUx",
        "colab": {
          "base_uri": "https://localhost:8080/"
        },
        "outputId": "e0780c62-f95e-4f4c-bfdc-2ce9ba0e1c9f"
      },
      "execution_count": null,
      "outputs": [
        {
          "output_type": "stream",
          "name": "stdout",
          "text": [
            "Big snake\n",
            "Not found\n"
          ]
        }
      ]
    },
    {
      "cell_type": "code",
      "source": [
        "pattern = r\"[;,.!\\s]+\"\n",
        "string = \"один, два, три; четыре. пять! шесть\"\n",
        "\n",
        "# разделение строки string по шаблону pattern\n",
        "parts = re.split(pattern, string)\n",
        "\n",
        "print(parts)"
      ],
      "metadata": {
        "id": "34LSco6QphS5",
        "colab": {
          "base_uri": "https://localhost:8080/"
        },
        "outputId": "0bdd7126-f4ea-480c-c778-9e2c65a76b24"
      },
      "execution_count": null,
      "outputs": [
        {
          "output_type": "stream",
          "name": "stdout",
          "text": [
            "['один', 'два', 'три', 'четыре', 'пять', 'шесть']\n"
          ]
        }
      ]
    },
    {
      "cell_type": "code",
      "source": [
        "pattern = r\"\\d+\"\n",
        "string = \"Список чисел: 123, 456, 789 и 123\"\n",
        "\n",
        "# поиск в строке string всх непересекающихся шаблонов pattern\n",
        "numbers = re.findall(pattern, string)\n",
        "print(numbers)"
      ],
      "metadata": {
        "id": "KX0DyQ_1qZ_I",
        "colab": {
          "base_uri": "https://localhost:8080/"
        },
        "outputId": "7a0822ea-d7c9-47d7-f532-8e7332a512b7"
      },
      "execution_count": null,
      "outputs": [
        {
          "output_type": "stream",
          "name": "stdout",
          "text": [
            "['123', '456', '789', '123']\n"
          ]
        }
      ]
    },
    {
      "cell_type": "code",
      "source": [
        "pattern = r\"\\d+\"\n",
        "string = \"Список чисел: 123, 456, 789 и 123\"\n",
        "\n",
        "# итератор по всем непересекающимся шаблонам pattern в строке string\n",
        "for m in re.finditer(pattern, string):\n",
        "    print(m[0])"
      ],
      "metadata": {
        "id": "YHdsdEdOq-wT",
        "colab": {
          "base_uri": "https://localhost:8080/"
        },
        "outputId": "1cb2f171-f32c-4388-f85e-e5421a758d0e"
      },
      "execution_count": null,
      "outputs": [
        {
          "output_type": "stream",
          "name": "stdout",
          "text": [
            "123\n",
            "456\n",
            "789\n",
            "123\n"
          ]
        }
      ]
    },
    {
      "cell_type": "code",
      "source": [
        "pattern = r\"\\s+\"\n",
        "string = \"Это    текст   с  лишними    пробелами.\"\n",
        "repl = \" \"\n",
        "\n",
        "# замена в строке string всех непересекающихся шаблонов pattern на repl\n",
        "res = re.sub(pattern, repl, string)\n",
        "print(res)"
      ],
      "metadata": {
        "id": "wFbgIE-Ur5E1",
        "colab": {
          "base_uri": "https://localhost:8080/"
        },
        "outputId": "1e4c0b76-fafa-4721-dd76-b3abfb34cb8e"
      },
      "execution_count": null,
      "outputs": [
        {
          "output_type": "stream",
          "name": "stdout",
          "text": [
            "Это текст с лишними пробелами.\n"
          ]
        }
      ]
    }
  ]
}