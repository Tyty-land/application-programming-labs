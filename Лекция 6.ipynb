{
  "nbformat": 4,
  "nbformat_minor": 0,
  "metadata": {
    "colab": {
      "provenance": []
    },
    "kernelspec": {
      "name": "python3",
      "display_name": "Python 3"
    },
    "language_info": {
      "name": "python"
    }
  },
  "cells": [
    {
      "cell_type": "markdown",
      "source": [
        "# Объектно ориентированное программирование"
      ],
      "metadata": {
        "id": "JIl7ARX7a0lI"
      }
    },
    {
      "cell_type": "markdown",
      "source": [
        "## Создание классов"
      ],
      "metadata": {
        "id": "mLUFq6EKa9Km"
      }
    },
    {
      "cell_type": "code",
      "execution_count": 15,
      "metadata": {
        "colab": {
          "base_uri": "https://localhost:8080/"
        },
        "id": "WRiguw83awDl",
        "outputId": "dde3646f-c7c3-4cda-c78b-dec9ac5b43f2"
      },
      "outputs": [
        {
          "output_type": "stream",
          "name": "stdout",
          "text": [
            "x: 5, y: 10\n",
            "x: 10, y: 10\n",
            "10 10\n",
            "x: 15, y: 10\n",
            "20\n",
            "'Point' object has no attribute 'z'\n"
          ]
        }
      ],
      "source": [
        "# создание класса\n",
        "class Point:\n",
        "    # конструктор - может быть только один\n",
        "    # первый аргумент любого метода всегда self\n",
        "    def __init__(self, x: float, y: float):\n",
        "        # атрибуты создаются внутри конструктора\n",
        "        # или внутри методов\n",
        "        self.x = x\n",
        "        self.y = y\n",
        "\n",
        "    def print(self) -> None:\n",
        "        print(f\"x: {self.x}, y: {self.y}\")\n",
        "\n",
        "    def set_x(self, x: float) -> None:\n",
        "        self.x = x\n",
        "\n",
        "    def set_y(self, y: float) -> None:\n",
        "        self.y = y\n",
        "\n",
        "    def get_x(self) -> float:\n",
        "        return self.x\n",
        "\n",
        "    def get_y(self) -> float:\n",
        "        return self.y\n",
        "\n",
        "# создание экземпляра класса\n",
        "point = Point(x=5, y=10)\n",
        "# вызов метода\n",
        "point.print()\n",
        "# вызов метода с аргументами\n",
        "point.set_x(10)\n",
        "point.print()\n",
        "# можно взывать атрибуты класса\n",
        "print(point.x, point.y)\n",
        "# и присваивать им значения\n",
        "point.x = 15\n",
        "point.print()\n",
        "\n",
        "# можно создавать методы и атрибуты вне класса (нежелаетльно)\n",
        "point.z = 20\n",
        "print(point.z)\n",
        "point2 = Point(30, 40)\n",
        "# при этом, созданные методы и атрибуты будут существовать только\n",
        "# у одного экземпляра класса\n",
        "try:\n",
        "    print(point2.z)\n",
        "except Exception as exc:\n",
        "    print(exc)"
      ]
    },
    {
      "cell_type": "markdown",
      "source": [
        "## Инкапсуляция"
      ],
      "metadata": {
        "id": "bZgcyD-amE0h"
      }
    },
    {
      "cell_type": "code",
      "source": [
        "class Point:\n",
        "    def __init__(self, x: float, y: float):\n",
        "        # защищённый атрибут или метод начинается с одного _\n",
        "        self._x = x\n",
        "        # приватный атрибут или метод начинается с двух __\n",
        "        self.__y = y\n",
        "\n",
        "point = Point(1, 2)\n",
        "try:\n",
        "    # при этом, к защищенному члену класса всё ещё можно обратиться\n",
        "    print(point._x)\n",
        "    # а к приватному нет\n",
        "    print(point.__y)\n",
        "except Exception as exc:\n",
        "    print(exc)\n",
        "\n",
        "# однако, если добавить _названиекласса перед приватным членом класса,\n",
        "# то к нему тоже можно обратиться (нежелательно)\n",
        "print(point._Point__y)"
      ],
      "metadata": {
        "colab": {
          "base_uri": "https://localhost:8080/"
        },
        "id": "4Cz2fUJPmIBy",
        "outputId": "4fa31661-e0f7-4e39-ab2e-86a36ea0c74a"
      },
      "execution_count": 4,
      "outputs": [
        {
          "output_type": "stream",
          "name": "stdout",
          "text": [
            "1\n",
            "'Point' object has no attribute '__y'\n",
            "2\n"
          ]
        }
      ]
    },
    {
      "cell_type": "code",
      "source": [
        "# для безопасной работы с атрибутами можно использовать свойства\n",
        "class Person:\n",
        "    def __init__(self, name: str, age: int):\n",
        "        self.name = name\n",
        "        self.age = age\n",
        "\n",
        "    # свойство-геттер\n",
        "    @property\n",
        "    def age(self) -> int:\n",
        "        print(\"age-getter\")\n",
        "        return self.__age\n",
        "\n",
        "    # свойство-сеттер\n",
        "    @age.setter\n",
        "    def age(self, age: int):\n",
        "        print(\"age-setter\")\n",
        "        if 0 > age or age > 100:\n",
        "            raise ValueError(\"Incorrect age\")\n",
        "        # атрибут создаётся внутри метода\n",
        "        self.__age = age\n",
        "\n",
        "    @property\n",
        "    def name(self) -> str:\n",
        "        print(\"name-getter\")\n",
        "        return self.__name\n",
        "\n",
        "    @name.setter\n",
        "    def name(self, name: str):\n",
        "        print(\"name-setter\")\n",
        "        # атрибут создаётся внутри метода\n",
        "        self.__name = name\n",
        "\n",
        "    def print(self):\n",
        "        print(f\"name: {self.name}, age: {self.age}\")\n",
        "\n",
        "person = Person(\"Ivan\", 20)\n",
        "person.print()\n",
        "# используем свойство-геттер\n",
        "print(person.name)\n",
        "# используем свойство-сеттер\n",
        "person.age = 21\n",
        "person.print()"
      ],
      "metadata": {
        "colab": {
          "base_uri": "https://localhost:8080/"
        },
        "id": "bu-LwR2Nno9Z",
        "outputId": "70c54336-e75c-4320-bc27-2bc789c7ebe5"
      },
      "execution_count": 5,
      "outputs": [
        {
          "output_type": "stream",
          "name": "stdout",
          "text": [
            "name-setter\n",
            "age-setter\n",
            "name-getter\n",
            "age-getter\n",
            "name: Ivan, age: 20\n",
            "name-getter\n",
            "Ivan\n",
            "age-setter\n",
            "name-getter\n",
            "age-getter\n",
            "name: Ivan, age: 21\n"
          ]
        }
      ]
    },
    {
      "cell_type": "markdown",
      "source": [
        "## Наследование"
      ],
      "metadata": {
        "id": "vMZDRg1rWNV7"
      }
    },
    {
      "cell_type": "code",
      "source": [
        "# базовый класс\n",
        "class Person:\n",
        "    def __init__(self, name: str):\n",
        "        self.name = name\n",
        "\n",
        "    @property\n",
        "    def name(self) -> str:\n",
        "        return self.__name\n",
        "\n",
        "    @name.setter\n",
        "    def name(self, name: str):\n",
        "        self.__name = name\n",
        "\n",
        "    def print(self):\n",
        "        print(f\"Name: {self.name}\")\n",
        "\n",
        "\n",
        "# класс-наследник от Person\n",
        "class Employee(Person):\n",
        "    def __init__(self, name: str, position: str):\n",
        "        # вызываем конструктор родительского класса\n",
        "        super().__init__(name)\n",
        "        self.position = position\n",
        "\n",
        "    # добавляем новый атрибут\n",
        "    @property\n",
        "    def position(self) -> str:\n",
        "        return self.__position\n",
        "\n",
        "    @position.setter\n",
        "    def position(self, position: str):\n",
        "        self.__position = position\n",
        "\n",
        "    # переопределяем метод родительского класса\n",
        "    def print(self):\n",
        "        # вызываем метод родительского класса\n",
        "        super().print()\n",
        "        print(f\"Position: {self.position}\")\n",
        "\n",
        "\n",
        "p = Person(\"Oleg\")\n",
        "p.print()\n",
        "e = Employee(\"Ivan\", \"Programmer\")\n",
        "e.print()"
      ],
      "metadata": {
        "colab": {
          "base_uri": "https://localhost:8080/"
        },
        "id": "3Ls1Qa8gWPGu",
        "outputId": "40578b38-c7a6-4de7-c586-47469d30cb0e"
      },
      "execution_count": 6,
      "outputs": [
        {
          "output_type": "stream",
          "name": "stdout",
          "text": [
            "Name: Oleg\n",
            "Name: Ivan\n",
            "Position: Programmer\n"
          ]
        }
      ]
    },
    {
      "cell_type": "markdown",
      "source": [
        "## Полиморфизм"
      ],
      "metadata": {
        "id": "HCGPuUoaqd24"
      }
    },
    {
      "cell_type": "code",
      "source": [
        "persons = [Person(\"Oleg\"),\n",
        "           Employee(\"Ivan\", \"Programmer\"),\n",
        "           Person(\"Irina\"),\n",
        "           Employee(\"Alan\", \"Teacher\")]\n",
        "\n",
        "for person in persons:\n",
        "    person.print()\n",
        "    print()"
      ],
      "metadata": {
        "colab": {
          "base_uri": "https://localhost:8080/"
        },
        "id": "z6to0TmJqhTR",
        "outputId": "15f83ef9-c42f-496a-95b9-a718ff468740"
      },
      "execution_count": 7,
      "outputs": [
        {
          "output_type": "stream",
          "name": "stdout",
          "text": [
            "Name: Oleg\n",
            "\n",
            "Name: Ivan\n",
            "Position: Programmer\n",
            "\n",
            "Name: Irina\n",
            "\n",
            "Name: Alan\n",
            "Position: Teacher\n",
            "\n"
          ]
        }
      ]
    },
    {
      "cell_type": "markdown",
      "source": [
        "## Статические методы и атрибуты класса"
      ],
      "metadata": {
        "id": "QMj8vqYYZhm_"
      }
    },
    {
      "cell_type": "code",
      "source": [
        "\n",
        "class Person:\n",
        "    # атрибут класса\n",
        "    default_name = \"-\"\n",
        "\n",
        "    def __init__(self, name: str=None):\n",
        "        self.name = name\n",
        "\n",
        "    @property\n",
        "    def name(self) -> str:\n",
        "        return self.__name\n",
        "\n",
        "    @name.setter\n",
        "    def name(self, name: str=None):\n",
        "        if name is None:\n",
        "            self.__name = Person.default_name\n",
        "        self.__name = name\n",
        "\n",
        "    def print(self):\n",
        "        print(f\"Name: {self.name}\")\n",
        "\n",
        "    # статический метод\n",
        "    # в отличии от методов класса не начинается с self\n",
        "    # и не имеет доступ к атрибутам и методам объекта\n",
        "    @staticmethod\n",
        "    def set_default_name(name: str):\n",
        "        Person.default_name = name\n",
        "\n",
        "p = Person()\n",
        "# обращаться к статическим методам и атрибутам можно как через объект\n",
        "p.set_default_name(\"---\")\n",
        "# так и через название класса\n",
        "print(Person.default_name)"
      ],
      "metadata": {
        "colab": {
          "base_uri": "https://localhost:8080/"
        },
        "id": "ty4az3amZma5",
        "outputId": "18fc38fd-f8a4-401a-c16c-30d5215fe783"
      },
      "execution_count": 8,
      "outputs": [
        {
          "output_type": "stream",
          "name": "stdout",
          "text": [
            "---\n"
          ]
        }
      ]
    },
    {
      "cell_type": "markdown",
      "source": [
        "## Абстрактные классы"
      ],
      "metadata": {
        "id": "kVoX9-qZcXsr"
      }
    },
    {
      "cell_type": "code",
      "source": [
        "# создадим абстрактный класс Shape\n",
        "class Shape:\n",
        "    def area(self):\n",
        "        # пропускаем реализацию метода\n",
        "        pass\n",
        "\n",
        "# но мы создать экземпляр класса\n",
        "sh = Shape()\n",
        "# и даже вызвать метод\n",
        "sh.area()"
      ],
      "metadata": {
        "id": "sQv_o2IVcaMQ"
      },
      "execution_count": 9,
      "outputs": []
    },
    {
      "cell_type": "code",
      "source": [
        "# для того, чтобы создать истинно абстрактный класс, следует использовать\n",
        "# модуль abc\n",
        "import abc\n",
        "\n",
        "# наследуемся от класса ABC из модуля abc\n",
        "class Shape(abc.ABC):\n",
        "    # добавляем аннотацию о том, что этот метод абстрактный\n",
        "    @abc.abstractmethod\n",
        "    def area(self):\n",
        "        pass\n",
        "\n",
        "try:\n",
        "    # экземпляр абстрактного класса создать невозможно\n",
        "    sh = Shape()\n",
        "    sh.area()\n",
        "except Exception as exc:\n",
        "    print(exc)"
      ],
      "metadata": {
        "colab": {
          "base_uri": "https://localhost:8080/"
        },
        "id": "DuX2C2BHdDgq",
        "outputId": "75f6959e-53fa-4576-cad9-8ce5871423c4"
      },
      "execution_count": 10,
      "outputs": [
        {
          "output_type": "stream",
          "name": "stdout",
          "text": [
            "Can't instantiate abstract class Shape with abstract method area\n"
          ]
        }
      ]
    },
    {
      "cell_type": "markdown",
      "source": [
        "## Класс object"
      ],
      "metadata": {
        "id": "7yYR81ljer0n"
      }
    },
    {
      "cell_type": "markdown",
      "source": [
        "Класс `object` является базовым классом для всех классов в Python и предоставляет несколько встроенных методов. Основные методы, унаследованные от класса `object`, включают:\n",
        "\n",
        "\n",
        "- `__new__()` - метод, который создает и возвращает новый объект.\n",
        "- `__init__()` - метод инициализации, который вызывается после создания объекта.\n",
        "- `__del__()` - вызывается при удалении объекта, позволяет выполнить очистку ресурсов.\n",
        "- `__str__()` - метод преобразования в строку.\n",
        "- `__repr__()` - метод, определяющий \"официальное\" строковое представление объекта, обычно используемое в отладочных целях.\n",
        "- `__hash__()` - метод, возвращающий хэш объекта.\n",
        "- `__bool__()` - метод преобразования в bool.\n",
        "- `__doc__()` - возвращает строку документации класса (если она существует).\n",
        "- `__module__()` - указывает модуль, в котором определён класс.\n",
        "\n",
        "\n",
        "- `__eq__()` - метод, определяющий поведение оператора `==`.\n",
        "- `__ne__()` - метод, определяющий поведение оператора `!=`.\n",
        "- `__lt__()` - метод, определяющий поведение оператора `<`.\n",
        "- `__le__()` - метод, определяющий поведение оператора `<=`.\n",
        "- `__gt__()` - метод, определяющий поведение оператора `>`.\n",
        "- `__ge__()` - метод, определяющий поведение оператора `>=`.\n",
        "\n",
        "Также существует множество других методов для переопрделения поведения встроенных функций.\n",
        "\n",
        "Рассмотрим несколько примеров.\n"
      ],
      "metadata": {
        "id": "7Fo6_4sNwnJf"
      }
    },
    {
      "cell_type": "code",
      "source": [
        "# класс точки\n",
        "\n",
        "class Point:\n",
        "    def __init__(self, x: float, y: float):\n",
        "        self.x = x\n",
        "        self.y = y\n",
        "\n",
        "    # реализуем опреаторы равенства и неравентства\n",
        "    def __eq__(self, other) -> bool:\n",
        "        # проверка типа объекта\n",
        "        if isinstance(other, Point):\n",
        "            return self.x == other.x and self.y == other.y\n",
        "        return False\n",
        "\n",
        "    def __ne__(self, other) -> bool:\n",
        "        return not (self == other)\n",
        "\n",
        "    # реализуем метод преобразования к строке\n",
        "    def __str__(self) -> str:\n",
        "        return f\"(x: {self.x}, y: {self.y})\"\n",
        "\n",
        "p = Point(5, 5)\n",
        "p2 = Point(5, 10)\n",
        "# используем опреаторы\n",
        "print(p == p2)\n",
        "print(p != p2)\n",
        "print(p == 5)  # other - любой объект\n",
        "print(5 == p)\n",
        "# используем неявное преобразование к строке в методе print\n",
        "print(p, p2)"
      ],
      "metadata": {
        "colab": {
          "base_uri": "https://localhost:8080/"
        },
        "id": "C5nncKVjxVtP",
        "outputId": "4608bdc8-7ad9-4037-a2a9-d052183fe6a4"
      },
      "execution_count": 12,
      "outputs": [
        {
          "output_type": "stream",
          "name": "stdout",
          "text": [
            "False\n",
            "True\n",
            "False\n",
            "False\n",
            "(x: 5, y: 5) (x: 5, y: 10)\n"
          ]
        }
      ]
    },
    {
      "cell_type": "code",
      "source": [
        "# собственный итератор\n",
        "\n",
        "class SimpleIterator:\n",
        "    def __init__(self, limit):\n",
        "        self.limit = limit  # ограничение\n",
        "        self.counter = 0  # счётчик\n",
        "\n",
        "    # метод, возвращающий итератор\n",
        "    def __iter__(self):\n",
        "        return self\n",
        "\n",
        "    # метод, возвращающий следующий объект\n",
        "    def __next__(self):\n",
        "        if self.counter < self.limit:\n",
        "            self.counter += 1\n",
        "            return self.counter\n",
        "        else:\n",
        "            raise StopIteration\n",
        "\n",
        "iterator = SimpleIterator(2)\n",
        "# можно использовать метод next() для получения следующего объекта\n",
        "print(next(iterator))\n",
        "# можно использовать итератор в цикле (неявно вызывается метод iter())\n",
        "for val in SimpleIterator(3):\n",
        "    print(val)"
      ],
      "metadata": {
        "colab": {
          "base_uri": "https://localhost:8080/"
        },
        "id": "ar148rzq59or",
        "outputId": "5ac85131-7bcd-42ad-9143-4d8061599046"
      },
      "execution_count": 13,
      "outputs": [
        {
          "output_type": "stream",
          "name": "stdout",
          "text": [
            "1\n",
            "1\n",
            "2\n",
            "3\n"
          ]
        }
      ]
    },
    {
      "cell_type": "code",
      "source": [
        "# собственное исключение\n",
        "\n",
        "class MyException(Exception):\n",
        "    def __init__(self, message: str):\n",
        "        # передаём сообщение родительскому классу\n",
        "        super().__init__(message)\n",
        "\n",
        "\n",
        "try:\n",
        "    raise MyException(\"My message\")\n",
        "except MyException as exc:\n",
        "    print(exc)"
      ],
      "metadata": {
        "colab": {
          "base_uri": "https://localhost:8080/"
        },
        "id": "NSHvTmuq75BC",
        "outputId": "9f955c3c-3bfb-44e9-f719-035246e72675"
      },
      "execution_count": 14,
      "outputs": [
        {
          "output_type": "stream",
          "name": "stdout",
          "text": [
            "My message\n"
          ]
        }
      ]
    }
  ]
}