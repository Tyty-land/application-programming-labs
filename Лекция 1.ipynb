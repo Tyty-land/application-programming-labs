{
  "nbformat": 4,
  "nbformat_minor": 0,
  "metadata": {
    "colab": {
      "provenance": []
    },
    "kernelspec": {
      "name": "python3",
      "display_name": "Python 3"
    },
    "language_info": {
      "name": "python"
    }
  },
  "cells": [
    {
      "cell_type": "markdown",
      "source": [
        "## Ввод-вывод"
      ],
      "metadata": {
        "id": "GQo-25LWbgAI"
      }
    },
    {
      "cell_type": "code",
      "execution_count": null,
      "metadata": {
        "id": "wC6gFxvUapOh",
        "colab": {
          "base_uri": "https://localhost:8080/"
        },
        "outputId": "a0293e8e-ee43-491f-d133-965561ccd94f"
      },
      "outputs": [
        {
          "output_type": "stream",
          "name": "stdout",
          "text": [
            "Enter name: Alan\n",
            "Hello, Alan\n"
          ]
        }
      ],
      "source": [
        "name = input(\"Enter name: \")  # функция ввода input\n",
        "print(f\"Hello, {name}\")  # функция вывода print"
      ]
    },
    {
      "cell_type": "code",
      "source": [
        "print(1, 2, 3)"
      ],
      "metadata": {
        "id": "o_eTQFAobc8k",
        "colab": {
          "base_uri": "https://localhost:8080/"
        },
        "outputId": "c8cb37b7-89e0-4526-c746-529475b7b754"
      },
      "execution_count": null,
      "outputs": [
        {
          "output_type": "stream",
          "name": "stdout",
          "text": [
            "1 2 3\n"
          ]
        }
      ]
    },
    {
      "cell_type": "code",
      "source": [
        "print(1, 2, 3, sep='\\n')"
      ],
      "metadata": {
        "id": "YTfpeYuKcIU0",
        "colab": {
          "base_uri": "https://localhost:8080/"
        },
        "outputId": "b90d2086-f9a5-4b35-fb04-e95b68d5be29"
      },
      "execution_count": null,
      "outputs": [
        {
          "output_type": "stream",
          "name": "stdout",
          "text": [
            "1\n",
            "2\n",
            "3\n"
          ]
        }
      ]
    },
    {
      "cell_type": "markdown",
      "source": [
        "## Динамическая типизация"
      ],
      "metadata": {
        "id": "Kf6VmARedAu3"
      }
    },
    {
      "cell_type": "code",
      "source": [
        "a = None\n",
        "print(type(a))\n",
        "\n",
        "a = 1.0\n",
        "print(type(a))\n",
        "\n",
        "a = 1\n",
        "print(type(a))\n",
        "\n",
        "a = \"abc\"\n",
        "print(type(a))\n",
        "\n",
        "a = True\n",
        "print(type(a))\n",
        "\n",
        "a = complex(1, 2)\n",
        "a = 2+4j\n",
        "print(type(a))\n",
        "\n",
        "a = []\n",
        "a = list()\n",
        "print(type(a))\n",
        "\n",
        "a = {}\n",
        "a = dict()\n",
        "print(type(a))\n",
        "\n",
        "a = ()\n",
        "a = tuple()\n",
        "print(type(a))\n",
        "\n",
        "a = set()\n",
        "print(type(a))"
      ],
      "metadata": {
        "id": "pQKkH95edDpU",
        "colab": {
          "base_uri": "https://localhost:8080/"
        },
        "outputId": "5a739c15-b111-468b-e2e0-7ed964f8f46d"
      },
      "execution_count": null,
      "outputs": [
        {
          "output_type": "stream",
          "name": "stdout",
          "text": [
            "<class 'NoneType'>\n",
            "<class 'float'>\n",
            "<class 'int'>\n",
            "<class 'str'>\n",
            "<class 'bool'>\n",
            "<class 'complex'>\n",
            "<class 'list'>\n",
            "<class 'dict'>\n",
            "<class 'tuple'>\n",
            "<class 'set'>\n"
          ]
        }
      ]
    },
    {
      "cell_type": "code",
      "source": [
        "# преобразование типов\n",
        "\n",
        "a = 555.0\n",
        "print(a, type(a))\n",
        "\n",
        "a = int(a)\n",
        "print(a, type(a))\n",
        "\n",
        "a = str(a)\n",
        "print(a, type(a))\n",
        "\n",
        "a = int(a)\n",
        "print(a, type(a))\n",
        "\n",
        "a = bool(a)\n",
        "print(a, type(a))"
      ],
      "metadata": {
        "id": "m94nLEC6LTJw",
        "colab": {
          "base_uri": "https://localhost:8080/"
        },
        "outputId": "17dcb1fb-3e28-41ed-bd47-d8bf2d1d96d4"
      },
      "execution_count": null,
      "outputs": [
        {
          "output_type": "stream",
          "name": "stdout",
          "text": [
            "555.0 <class 'float'>\n",
            "555 <class 'int'>\n",
            "555 <class 'str'>\n",
            "555 <class 'int'>\n",
            "True <class 'bool'>\n"
          ]
        }
      ]
    },
    {
      "cell_type": "markdown",
      "source": [
        "## Комментарии"
      ],
      "metadata": {
        "id": "M7LH-CE2urYI"
      }
    },
    {
      "cell_type": "code",
      "source": [
        "# однострочный комментарий к коду пишется сверху через один пробел после решётки\n",
        "a = 5\n",
        "\n",
        "a = 10  # либо сбоку через два пробела после кода\n",
        "\n",
        "\n",
        "\"\"\"\n",
        "Многострочные комментарии, например, для описания функции,\n",
        "пишутся в тройных двойных кавычках\n",
        "\"\"\"\n",
        "\n",
        "'''\n",
        "Либо в тройных одинарных кавычках\n",
        "'''\n",
        "\n",
        "def func():\n",
        "    \"\"\"\n",
        "    Описания функций пишутся под заголовком\n",
        "    \"\"\"\n",
        "    print(\"my function\")"
      ],
      "metadata": {
        "id": "Kbsi46iHutjP"
      },
      "execution_count": null,
      "outputs": []
    },
    {
      "cell_type": "markdown",
      "source": [
        "## Арифметические операторы"
      ],
      "metadata": {
        "id": "sep6qoIiewkP"
      }
    },
    {
      "cell_type": "code",
      "source": [
        "a = 5\n",
        "b = 2"
      ],
      "metadata": {
        "id": "4-ly7HUBe2H-"
      },
      "execution_count": null,
      "outputs": []
    },
    {
      "cell_type": "code",
      "source": [
        "a + b"
      ],
      "metadata": {
        "id": "ZR81dyafe7uS",
        "colab": {
          "base_uri": "https://localhost:8080/"
        },
        "outputId": "248fe9fd-dffc-42d0-f447-9732abc135b3"
      },
      "execution_count": null,
      "outputs": [
        {
          "output_type": "execute_result",
          "data": {
            "text/plain": [
              "7"
            ]
          },
          "metadata": {},
          "execution_count": 11
        }
      ]
    },
    {
      "cell_type": "code",
      "source": [
        "a - b"
      ],
      "metadata": {
        "id": "9B-JP4oQfDSH",
        "colab": {
          "base_uri": "https://localhost:8080/"
        },
        "outputId": "f5d52092-9d05-4e60-d1f0-331b38af4cd8"
      },
      "execution_count": null,
      "outputs": [
        {
          "output_type": "execute_result",
          "data": {
            "text/plain": [
              "3"
            ]
          },
          "metadata": {},
          "execution_count": 12
        }
      ]
    },
    {
      "cell_type": "code",
      "source": [
        "a * b"
      ],
      "metadata": {
        "id": "s9sxqoBefFPo",
        "colab": {
          "base_uri": "https://localhost:8080/"
        },
        "outputId": "ff59d450-a677-4753-fce7-57a2a2b85775"
      },
      "execution_count": null,
      "outputs": [
        {
          "output_type": "execute_result",
          "data": {
            "text/plain": [
              "10"
            ]
          },
          "metadata": {},
          "execution_count": 13
        }
      ]
    },
    {
      "cell_type": "code",
      "source": [
        "a / b"
      ],
      "metadata": {
        "id": "UvTb5-QsfHPw",
        "colab": {
          "base_uri": "https://localhost:8080/"
        },
        "outputId": "a91d8e71-3a3a-49e7-da78-7ed3f9fc9a0e"
      },
      "execution_count": null,
      "outputs": [
        {
          "output_type": "execute_result",
          "data": {
            "text/plain": [
              "2.5"
            ]
          },
          "metadata": {},
          "execution_count": 14
        }
      ]
    },
    {
      "cell_type": "code",
      "source": [
        "a // b"
      ],
      "metadata": {
        "id": "cSTS1wcLfNRK",
        "colab": {
          "base_uri": "https://localhost:8080/"
        },
        "outputId": "d74286e1-df16-48f5-8273-49ca4b6602f9"
      },
      "execution_count": null,
      "outputs": [
        {
          "output_type": "execute_result",
          "data": {
            "text/plain": [
              "2"
            ]
          },
          "metadata": {},
          "execution_count": 15
        }
      ]
    },
    {
      "cell_type": "code",
      "source": [
        "a % b"
      ],
      "metadata": {
        "id": "rE8F7_AwfPk1",
        "colab": {
          "base_uri": "https://localhost:8080/"
        },
        "outputId": "a0806e95-2d9d-4224-9176-a44963b8ae05"
      },
      "execution_count": null,
      "outputs": [
        {
          "output_type": "execute_result",
          "data": {
            "text/plain": [
              "1"
            ]
          },
          "metadata": {},
          "execution_count": 16
        }
      ]
    },
    {
      "cell_type": "code",
      "source": [
        "2.5 % 2.3"
      ],
      "metadata": {
        "id": "UrMvsQPTfWb5",
        "colab": {
          "base_uri": "https://localhost:8080/"
        },
        "outputId": "2dedde63-d0c6-452d-d022-25d119fbfd59"
      },
      "execution_count": null,
      "outputs": [
        {
          "output_type": "execute_result",
          "data": {
            "text/plain": [
              "0.20000000000000018"
            ]
          },
          "metadata": {},
          "execution_count": 17
        }
      ]
    },
    {
      "cell_type": "code",
      "source": [
        "a**b"
      ],
      "metadata": {
        "id": "TKcg-PTcfj3t",
        "colab": {
          "base_uri": "https://localhost:8080/"
        },
        "outputId": "eb3d251a-6495-4c1b-837c-dd9bb2bea3b6"
      },
      "execution_count": null,
      "outputs": [
        {
          "output_type": "execute_result",
          "data": {
            "text/plain": [
              "25"
            ]
          },
          "metadata": {},
          "execution_count": 18
        }
      ]
    },
    {
      "cell_type": "markdown",
      "source": [
        "## Условные выражения"
      ],
      "metadata": {
        "id": "WW6YrOuuFc2m"
      }
    },
    {
      "cell_type": "code",
      "source": [
        "# операторы сравнения\n",
        "print(a == b)\n",
        "print(a != b)\n",
        "print(a > b)\n",
        "print(a < b)\n",
        "print(a >= b)\n",
        "print(a <= b)\n",
        "\n",
        "print(1 == 1.0)"
      ],
      "metadata": {
        "id": "M5IBTpceFhKo",
        "colab": {
          "base_uri": "https://localhost:8080/"
        },
        "outputId": "a594ab55-7adf-403e-a483-517140ed9259"
      },
      "execution_count": null,
      "outputs": [
        {
          "output_type": "stream",
          "name": "stdout",
          "text": [
            "False\n",
            "True\n",
            "False\n",
            "True\n",
            "False\n",
            "True\n",
            "True\n"
          ]
        }
      ]
    },
    {
      "cell_type": "code",
      "source": [
        "# логические операторы\n",
        "a = 5\n",
        "b = 2\n",
        "\n",
        "# логическое И (&&)\n",
        "print(a == 0 and b == 2)\n",
        "\n",
        "# логическое ИЛИ (||)\n",
        "print(a == 0 or b == 2)\n",
        "\n",
        "# логическое НЕ (!)\n",
        "print(not a == 0)"
      ],
      "metadata": {
        "id": "UfMNV798GrYR",
        "colab": {
          "base_uri": "https://localhost:8080/"
        },
        "outputId": "d0880837-d803-48ff-f57e-a25b7a420b40"
      },
      "execution_count": null,
      "outputs": [
        {
          "output_type": "stream",
          "name": "stdout",
          "text": [
            "False\n",
            "True\n",
            "True\n"
          ]
        }
      ]
    },
    {
      "cell_type": "code",
      "source": [
        "# оператор in\n",
        "\n",
        "my_list = [1, 2, 3]\n",
        "print(1 in my_list)\n",
        "print(5 in my_list)\n",
        "\n",
        "my_str = \"hello\"\n",
        "print(\"h\" in \"hello\")\n",
        "print(\"a\" in \"hello\")"
      ],
      "metadata": {
        "id": "KVGITXm-IHCt",
        "colab": {
          "base_uri": "https://localhost:8080/"
        },
        "outputId": "9f974193-183c-4b6e-a970-78bfebed0db1"
      },
      "execution_count": null,
      "outputs": [
        {
          "output_type": "stream",
          "name": "stdout",
          "text": [
            "True\n",
            "False\n",
            "True\n",
            "False\n"
          ]
        }
      ]
    },
    {
      "cell_type": "markdown",
      "source": [
        "## Условный оператор if"
      ],
      "metadata": {
        "id": "C2jT_aPMIuti"
      }
    },
    {
      "cell_type": "code",
      "source": [
        "age = input(\"Enter your age: \")\n",
        "age = int(age)\n",
        "\n",
        "if age < 16:\n",
        "    print(\"You're so young :3\")\n",
        "elif age < 100:\n",
        "    print(\"It's a good age to start programming!\")\n",
        "else:\n",
        "    print(\"Really? Wow\")"
      ],
      "metadata": {
        "id": "Vg35Fq5HIz61",
        "colab": {
          "base_uri": "https://localhost:8080/"
        },
        "outputId": "3ed4dc6c-d4d9-48cf-ac8d-5b2774110d56"
      },
      "execution_count": null,
      "outputs": [
        {
          "output_type": "stream",
          "name": "stdout",
          "text": [
            "Enter your age: 10\n",
            "You're so young :3\n"
          ]
        }
      ]
    },
    {
      "cell_type": "code",
      "source": [
        "# создание переменной в условии\n",
        "\n",
        "a = 10\n",
        "if a > 5:\n",
        "    var = 10\n",
        "else:\n",
        "    var = 100\n",
        "\n",
        "print(var)"
      ],
      "metadata": {
        "id": "oyrNuengR9PT",
        "colab": {
          "base_uri": "https://localhost:8080/"
        },
        "outputId": "51733ff4-c0e1-41e5-cf67-985fb7924d95"
      },
      "execution_count": null,
      "outputs": [
        {
          "output_type": "stream",
          "name": "stdout",
          "text": [
            "10\n"
          ]
        }
      ]
    },
    {
      "cell_type": "code",
      "source": [
        "# тернарный опреатор\n",
        "\n",
        "age = 10\n",
        "access = True if a >= 18 else False\n",
        "print(access)"
      ],
      "metadata": {
        "id": "ijkqqkZnTo7j",
        "colab": {
          "base_uri": "https://localhost:8080/"
        },
        "outputId": "aee053aa-2468-422c-d8d6-580db280dd8e"
      },
      "execution_count": null,
      "outputs": [
        {
          "output_type": "stream",
          "name": "stdout",
          "text": [
            "False\n"
          ]
        }
      ]
    },
    {
      "cell_type": "markdown",
      "source": [
        "## Циклы"
      ],
      "metadata": {
        "id": "vF-KBzq1NkRG"
      }
    },
    {
      "cell_type": "code",
      "source": [
        "# цикл while\n",
        "\n",
        "count = 0\n",
        "\n",
        "while count < 3:\n",
        "    print(count, end=\" \")\n",
        "    count += 1"
      ],
      "metadata": {
        "id": "YiSEsanYNp3i",
        "colab": {
          "base_uri": "https://localhost:8080/"
        },
        "outputId": "ba01ef3b-db63-417e-92a4-27af529d40b3"
      },
      "execution_count": null,
      "outputs": [
        {
          "output_type": "stream",
          "name": "stdout",
          "text": [
            "0 1 2 "
          ]
        }
      ]
    },
    {
      "cell_type": "code",
      "source": [
        "# цикл for от 0 до 3\n",
        "for i in range(3):\n",
        "    print(i, end=\" \")"
      ],
      "metadata": {
        "id": "RJjD2Ox1QAEi",
        "colab": {
          "base_uri": "https://localhost:8080/"
        },
        "outputId": "c894b12e-8126-4f18-c3b4-4e4da1c662be"
      },
      "execution_count": null,
      "outputs": [
        {
          "output_type": "stream",
          "name": "stdout",
          "text": [
            "0 1 2 "
          ]
        }
      ]
    },
    {
      "cell_type": "code",
      "source": [
        "# цикл for от 2 до 5\n",
        "for i in range(2, 5):\n",
        "    print(i, end=\" \")"
      ],
      "metadata": {
        "id": "q8NusBcRQiGH",
        "colab": {
          "base_uri": "https://localhost:8080/"
        },
        "outputId": "a10de568-f8a7-412a-a142-7db324b99bcf"
      },
      "execution_count": null,
      "outputs": [
        {
          "output_type": "stream",
          "name": "stdout",
          "text": [
            "2 3 4 "
          ]
        }
      ]
    },
    {
      "cell_type": "code",
      "source": [
        "# цикл for от 0 до 10 с шагом 2\n",
        "for i in range(0, 10, 2):\n",
        "    print(i, end=\" \")"
      ],
      "metadata": {
        "id": "zQ8roy_3Qnq2",
        "colab": {
          "base_uri": "https://localhost:8080/"
        },
        "outputId": "d483b26d-fa90-4c2a-d101-60626a5416e7"
      },
      "execution_count": null,
      "outputs": [
        {
          "output_type": "stream",
          "name": "stdout",
          "text": [
            "0 2 4 6 8 "
          ]
        }
      ]
    },
    {
      "cell_type": "markdown",
      "source": [
        "## Строки"
      ],
      "metadata": {
        "id": "WKbUkKKJy5EK"
      }
    },
    {
      "cell_type": "code",
      "source": [
        "# строки могут определяться через одинарные или двойные кавычки\n",
        "str1 = 'hello'\n",
        "str2 = \"world\"\n",
        "\n",
        "# длина строки\n",
        "len(str1)"
      ],
      "metadata": {
        "id": "GA8NodpJy7Dg",
        "colab": {
          "base_uri": "https://localhost:8080/"
        },
        "outputId": "831f137f-3ad9-4b21-a43a-507f915276b4"
      },
      "execution_count": null,
      "outputs": [
        {
          "output_type": "execute_result",
          "data": {
            "text/plain": [
              "5"
            ]
          },
          "metadata": {},
          "execution_count": 31
        }
      ]
    },
    {
      "cell_type": "code",
      "source": [
        "# экранирование символов аналогично экранированию в C++\n",
        "print(\"Message:\\n\\\"Hello World\\\"\")"
      ],
      "metadata": {
        "id": "3VRS00SRTRo-",
        "colab": {
          "base_uri": "https://localhost:8080/"
        },
        "outputId": "761dabf0-9767-4af0-f38f-fa044f5c1b64"
      },
      "execution_count": null,
      "outputs": [
        {
          "output_type": "stream",
          "name": "stdout",
          "text": [
            "Message:\n",
            "\"Hello World\"\n"
          ]
        }
      ]
    },
    {
      "cell_type": "code",
      "source": [
        "# для отключения экранирования перед строкой нужно поставить символ r\n",
        "path = r\"C:\\path\\name.txt\"\n",
        "print(path)"
      ],
      "metadata": {
        "id": "bA7bhscP0Orb",
        "colab": {
          "base_uri": "https://localhost:8080/"
        },
        "outputId": "b50892c4-4e5c-45d4-d559-ab6807159ba7"
      },
      "execution_count": null,
      "outputs": [
        {
          "output_type": "stream",
          "name": "stdout",
          "text": [
            "C:\\path\\name.txt\n"
          ]
        }
      ]
    },
    {
      "cell_type": "code",
      "source": [
        "name = \"Alan\"\n",
        "age = 23\n",
        "# вставка значений в строку\n",
        "user = f\"Name: {name}, age: {age}\"\n",
        "print(user)"
      ],
      "metadata": {
        "id": "Nxz9zIG30493",
        "colab": {
          "base_uri": "https://localhost:8080/"
        },
        "outputId": "0cf555de-9963-4a6d-cf1f-229ee6ff17a2"
      },
      "execution_count": null,
      "outputs": [
        {
          "output_type": "stream",
          "name": "stdout",
          "text": [
            "Name: Alan, age: 23\n"
          ]
        }
      ]
    },
    {
      "cell_type": "code",
      "source": [
        "# конкатенация\n",
        "str1 + \" \" + str2"
      ],
      "metadata": {
        "id": "UPyvHAnZ7GB9",
        "colab": {
          "base_uri": "https://localhost:8080/",
          "height": 35
        },
        "outputId": "27488be4-779f-434b-fee9-c961bfb687b7"
      },
      "execution_count": null,
      "outputs": [
        {
          "output_type": "execute_result",
          "data": {
            "text/plain": [
              "'hello world'"
            ],
            "application/vnd.google.colaboratory.intrinsic+json": {
              "type": "string"
            }
          },
          "metadata": {},
          "execution_count": 37
        }
      ]
    },
    {
      "cell_type": "code",
      "source": [
        "# повторение строки\n",
        "\"mew\" * 3"
      ],
      "metadata": {
        "id": "tlAx5fSt7e12",
        "colab": {
          "base_uri": "https://localhost:8080/",
          "height": 35
        },
        "outputId": "448feae2-f102-438a-cfae-b89e9db33d56"
      },
      "execution_count": null,
      "outputs": [
        {
          "output_type": "execute_result",
          "data": {
            "text/plain": [
              "'mewmewmew'"
            ],
            "application/vnd.google.colaboratory.intrinsic+json": {
              "type": "string"
            }
          },
          "metadata": {},
          "execution_count": 38
        }
      ]
    },
    {
      "cell_type": "code",
      "source": [
        "string = \"Hello\"\n",
        "# обращение по индексу\n",
        "string[0]"
      ],
      "metadata": {
        "id": "ecGtjagc7sc5",
        "colab": {
          "base_uri": "https://localhost:8080/",
          "height": 35
        },
        "outputId": "cd1d9f80-c549-449e-88a0-85ce2df53382"
      },
      "execution_count": null,
      "outputs": [
        {
          "output_type": "execute_result",
          "data": {
            "text/plain": [
              "'H'"
            ],
            "application/vnd.google.colaboratory.intrinsic+json": {
              "type": "string"
            }
          },
          "metadata": {},
          "execution_count": 39
        }
      ]
    },
    {
      "cell_type": "code",
      "source": [
        "# обратная индексация\n",
        "string[-1]"
      ],
      "metadata": {
        "id": "SYwkKFlm8K8o",
        "colab": {
          "base_uri": "https://localhost:8080/",
          "height": 35
        },
        "outputId": "db14e139-9671-4a5e-fc73-e5b95a2406f6"
      },
      "execution_count": null,
      "outputs": [
        {
          "output_type": "execute_result",
          "data": {
            "text/plain": [
              "'o'"
            ],
            "application/vnd.google.colaboratory.intrinsic+json": {
              "type": "string"
            }
          },
          "metadata": {},
          "execution_count": 40
        }
      ]
    },
    {
      "cell_type": "code",
      "source": [
        "# срезы строки\n",
        "string = \"Hello\"\n",
        "\n",
        "# от 0 до 3 символа\n",
        "print(string[:3])\n",
        "\n",
        "# от 3 до последнего\n",
        "print(string[3:])\n",
        "\n",
        "# от 1 до 4 символа\n",
        "print(string[1:4])\n",
        "\n",
        "# от 1 до 3 символа с шагом 2\n",
        "print(string[1:4:2])\n",
        "\n",
        "# от 0 до последнего с шагом 2\n",
        "print(string[::2])"
      ],
      "metadata": {
        "id": "gI850v3f8amq",
        "colab": {
          "base_uri": "https://localhost:8080/"
        },
        "outputId": "b256f84f-1de5-4451-8ce6-25561d282168"
      },
      "execution_count": null,
      "outputs": [
        {
          "output_type": "stream",
          "name": "stdout",
          "text": [
            "Hel\n",
            "lo\n",
            "ell\n",
            "el\n",
            "Hlo\n"
          ]
        }
      ]
    },
    {
      "cell_type": "code",
      "source": [
        "# ребус [1]\n",
        "str1 = \"hello, my friend\"\n",
        "\n",
        "str1[7:8] + str1[4] * 2 + str1[-2]"
      ],
      "metadata": {
        "id": "HvghCDQn-2bh"
      },
      "execution_count": null,
      "outputs": []
    },
    {
      "cell_type": "code",
      "source": [
        "# лексикографическое сравнение строк\n",
        "str1 = \"abc\"\n",
        "str2 = \"acb\"\n",
        "\n",
        "print(str1 == str2)\n",
        "print(str1 > str2)\n",
        "print(str1 < str2)"
      ],
      "metadata": {
        "id": "6v-ZbtX7RIvi",
        "colab": {
          "base_uri": "https://localhost:8080/"
        },
        "outputId": "7c733aa1-c470-4427-b43c-76ecf1594421"
      },
      "execution_count": null,
      "outputs": [
        {
          "output_type": "stream",
          "name": "stdout",
          "text": [
            "False\n",
            "False\n",
            "True\n"
          ]
        }
      ]
    },
    {
      "cell_type": "code",
      "source": [
        "# перебор строки\n",
        "for i in \"hello\":\n",
        "    print(i, end=\" \")"
      ],
      "metadata": {
        "id": "zHsii9FvTcAz",
        "colab": {
          "base_uri": "https://localhost:8080/"
        },
        "outputId": "7d2114ca-1dc7-4bbf-e1c2-0c5538236a58"
      },
      "execution_count": null,
      "outputs": [
        {
          "output_type": "stream",
          "name": "stdout",
          "text": [
            "h e l l o "
          ]
        }
      ]
    },
    {
      "cell_type": "code",
      "source": [
        "# основные методы строк\n",
        "\n",
        "string = \"Hello World!\"\n",
        "\n",
        "print(string.islower())  # все символы строки в нижнем регистре\n",
        "print(string.isupper())  # все символы строки в верхнем регистре\n",
        "\n",
        "print(string.lower())  # перевод строки в нижний регистр\n",
        "print(string.upper())  # перевод строки в верхний регистр"
      ],
      "metadata": {
        "id": "PpiYmXPkTxTm",
        "colab": {
          "base_uri": "https://localhost:8080/"
        },
        "outputId": "3090221d-8e6c-428b-b8ab-16b7793a4df5"
      },
      "execution_count": null,
      "outputs": [
        {
          "output_type": "stream",
          "name": "stdout",
          "text": [
            "False\n",
            "False\n",
            "hello world!\n",
            "HELLO WORLD!\n"
          ]
        }
      ]
    },
    {
      "cell_type": "code",
      "source": [
        "print(string.isalpha())  # True - строка состоит только из алфавитных символов\n",
        "\n",
        "print(string.isdigit())  # True - строка состоит только из цифр\n",
        "print(string.isnumeric())  # True - строка является числом"
      ],
      "metadata": {
        "id": "5GTxnwkSVee2",
        "colab": {
          "base_uri": "https://localhost:8080/"
        },
        "outputId": "eab259f4-a610-4e88-f8ae-59358795a443"
      },
      "execution_count": null,
      "outputs": [
        {
          "output_type": "stream",
          "name": "stdout",
          "text": [
            "False\n",
            "False\n",
            "False\n"
          ]
        }
      ]
    },
    {
      "cell_type": "code",
      "source": [
        "# поиск по подстроке\n",
        "# возвращает индекс подстроки\n",
        "print(string.find(\"lo\"))\n",
        "\n",
        "# если подстрока не найдена - возвращает -1\n",
        "print(string.find(\"X\"))"
      ],
      "metadata": {
        "id": "73JdlgTBWSdB",
        "colab": {
          "base_uri": "https://localhost:8080/"
        },
        "outputId": "81a32189-3f22-4597-dd51-a12d4bb4b0a7"
      },
      "execution_count": null,
      "outputs": [
        {
          "output_type": "stream",
          "name": "stdout",
          "text": [
            "3\n",
            "-1\n"
          ]
        }
      ]
    },
    {
      "cell_type": "code",
      "source": [
        "# замена подстроки\n",
        "string.replace(\"World\", \"friends\")"
      ],
      "metadata": {
        "id": "Wd3h7CRqXEiA",
        "colab": {
          "base_uri": "https://localhost:8080/",
          "height": 35
        },
        "outputId": "9ac79b3d-5b46-495a-cbf4-2389f0ad63a1"
      },
      "execution_count": null,
      "outputs": [
        {
          "output_type": "execute_result",
          "data": {
            "text/plain": [
              "'Hello friends!'"
            ],
            "application/vnd.google.colaboratory.intrinsic+json": {
              "type": "string"
            }
          },
          "metadata": {},
          "execution_count": 47
        }
      ]
    },
    {
      "cell_type": "code",
      "source": [
        "# разделение строки на подстроки в зависимости от разделителя\n",
        "# возвращает список (list) строк\n",
        "string.split(\" \")"
      ],
      "metadata": {
        "id": "q4OO95DbXhoG",
        "colab": {
          "base_uri": "https://localhost:8080/"
        },
        "outputId": "b3b6b206-3544-4a3d-e70f-7f5b83d12c01"
      },
      "execution_count": null,
      "outputs": [
        {
          "output_type": "execute_result",
          "data": {
            "text/plain": [
              "['Hello', 'World!']"
            ]
          },
          "metadata": {},
          "execution_count": 48
        }
      ]
    },
    {
      "cell_type": "code",
      "source": [
        "# объединение списка строк с помощью разделителя\n",
        "\" - \".join([\"One\", \"two\", \"three\"])"
      ],
      "metadata": {
        "id": "ZyfH8SyPX-vn",
        "colab": {
          "base_uri": "https://localhost:8080/",
          "height": 35
        },
        "outputId": "e1739795-a16e-46fc-edee-9e48b446ed1d"
      },
      "execution_count": null,
      "outputs": [
        {
          "output_type": "execute_result",
          "data": {
            "text/plain": [
              "'One - two - three'"
            ],
            "application/vnd.google.colaboratory.intrinsic+json": {
              "type": "string"
            }
          },
          "metadata": {},
          "execution_count": 49
        }
      ]
    },
    {
      "cell_type": "code",
      "source": [
        "# ребус [2]\n",
        "\n",
        "string = \"The length of a python is less than that of an anaconda\"\n",
        "\n",
        "lst = string.split(\" \")\n",
        "\" \".join([lst[0], lst[1][1:4].replace(\"g\", \"d\"), lst[2], lst[6] + lst[4][-2:]])"
      ],
      "metadata": {
        "id": "pdWYsXgpYzFA"
      },
      "execution_count": null,
      "outputs": []
    }
  ]
}